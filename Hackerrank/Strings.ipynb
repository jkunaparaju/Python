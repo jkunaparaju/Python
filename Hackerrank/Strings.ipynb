{
 "cells": [
  {
   "cell_type": "code",
   "execution_count": 1,
   "metadata": {
    "collapsed": false
   },
   "outputs": [
    {
     "name": "stdout",
     "output_type": "stream",
     "text": [
      "\n"
     ]
    }
   ],
   "source": [
    "str = 'HackerRank.com presents \"Pythonist 2\".'\n",
    "print()"
   ]
  },
  {
   "cell_type": "code",
   "execution_count": 2,
   "metadata": {
    "collapsed": true
   },
   "outputs": [],
   "source": [
    "def print_full_name(a, b):\n",
    "    print(\"Hello \" + a +\" \" + b + \"!\"+ \" You just delved into python.\")"
   ]
  },
  {
   "cell_type": "code",
   "execution_count": 3,
   "metadata": {
    "collapsed": false
   },
   "outputs": [
    {
     "name": "stdout",
     "output_type": "stream",
     "text": [
      "Jyothi\n",
      "Kunaparaju\n",
      "Hello Jyothi Kunaparaju! You just delved into python.\n"
     ]
    }
   ],
   "source": [
    "if __name__ == '__main__':\n",
    "    first_name = input()\n",
    "    last_name = input()\n",
    "    print_full_name(first_name, last_name)"
   ]
  },
  {
   "cell_type": "code",
   "execution_count": null,
   "metadata": {
    "collapsed": false
   },
   "outputs": [],
   "source": [
    "\n"
   ]
  },
  {
   "cell_type": "code",
   "execution_count": null,
   "metadata": {
    "collapsed": true
   },
   "outputs": [],
   "source": [
    "string.count(sub_string)"
   ]
  },
  {
   "cell_type": "code",
   "execution_count": 30,
   "metadata": {
    "collapsed": false
   },
   "outputs": [],
   "source": [
    "def find_all(a_str, sub):\n",
    "    start = 0\n",
    "    \n",
    "    while True:\n",
    "        start = a_str.find(sub, start)\n",
    "        print(start)\n",
    "        if start == -1: return\n",
    "        yield start\n",
    "        start += 1\n",
    "        # len(sub) # use start += 1 to find overlapping matches\n",
    "\n",
    "#len(list(find_all('ABCDCDC', 'CDC'))) # [0, 5, 10, 15]"
   ]
  },
  {
   "cell_type": "code",
   "execution_count": null,
   "metadata": {
    "collapsed": false
   },
   "outputs": [],
   "source": []
  },
  {
   "cell_type": "code",
   "execution_count": 40,
   "metadata": {
    "collapsed": false
   },
   "outputs": [
    {
     "name": "stdout",
     "output_type": "stream",
     "text": [
      "True\n"
     ]
    }
   ],
   "source": [
    " print(any(map(str.isalnum,'qA2')))"
   ]
  },
  {
   "cell_type": "code",
   "execution_count": 50,
   "metadata": {
    "collapsed": false
   },
   "outputs": [
    {
     "name": "stdout",
     "output_type": "stream",
     "text": [
      "0x11\n"
     ]
    }
   ],
   "source": [
    "x = (hex(17))\n",
    "print(x)"
   ]
  },
  {
   "cell_type": "code",
   "execution_count": 51,
   "metadata": {
    "collapsed": false
   },
   "outputs": [
    {
     "name": "stdout",
     "output_type": "stream",
     "text": [
      "17\n"
     ]
    }
   ],
   "source": [
    "print(int(x , 16))"
   ]
  },
  {
   "cell_type": "code",
   "execution_count": 53,
   "metadata": {
    "collapsed": true
   },
   "outputs": [],
   "source": [
    "st =17"
   ]
  },
  {
   "cell_type": "code",
   "execution_count": 60,
   "metadata": {
    "collapsed": false
   },
   "outputs": [
    {
     "data": {
      "text/plain": [
       "5"
      ]
     },
     "execution_count": 60,
     "metadata": {},
     "output_type": "execute_result"
    }
   ],
   "source": [
    "w=len(bin(st)[2:])\n",
    "w"
   ]
  },
  {
   "cell_type": "code",
   "execution_count": 64,
   "metadata": {
    "collapsed": false
   },
   "outputs": [
    {
     "data": {
      "text/plain": [
       "'   21'"
      ]
     },
     "execution_count": 64,
     "metadata": {},
     "output_type": "execute_result"
    }
   ],
   "source": [
    "str(oct(st)[2:]).rjust(w,' ')"
   ]
  },
  {
   "cell_type": "code",
   "execution_count": 63,
   "metadata": {
    "collapsed": false
   },
   "outputs": [
    {
     "data": {
      "text/plain": [
       "'10001'"
      ]
     },
     "execution_count": 63,
     "metadata": {},
     "output_type": "execute_result"
    }
   ],
   "source": [
    "bin(17)[2:]"
   ]
  },
  {
   "cell_type": "code",
   "execution_count": 78,
   "metadata": {
    "collapsed": false
   },
   "outputs": [
    {
     "name": "stdout",
     "output_type": "stream",
     "text": [
      "17\n",
      "   17    21    11 10001\n",
      "   17    21    11 10001\n",
      "   17    21    11 10001\n",
      "   17    21    11 10001\n",
      "   17    21    11 10001\n",
      "   17    21    11 10001\n",
      "   17    21    11 10001\n",
      "   17    21    11 10001\n",
      "   17    21    11 10001\n",
      "   17    21    11 10001\n",
      "   17    21    11 10001\n",
      "   17    21    11 10001\n",
      "   17    21    11 10001\n",
      "   17    21    11 10001\n",
      "   17    21    11 10001\n",
      "   17    21    11 10001\n",
      "   17    21    11 10001\n"
     ]
    }
   ],
   "source": [
    "st=int(input())\n",
    "w=len(bin(st)[2:])\n",
    "for i in range(1,st+1):\n",
    "    print (str(st).rjust(w,' '),str(oct(st)[2:]).rjust(w,' '),str(hex(st)[2:].upper()).rjust(w,' '),str(bin(st)[2:]).rjust(w,' '),sep=' ')"
   ]
  },
  {
   "cell_type": "code",
   "execution_count": 79,
   "metadata": {
    "collapsed": true
   },
   "outputs": [],
   "source": [
    "def print_formatted(number):\n",
    "    # your code goes here \n",
    "    w=len(bin(number)[2:])\n",
    "    for i in range(1,number+1):\n",
    "        print (str(i).rjust(w,' '),str(oct(i)[2:]).rjust(w,' '),str(hex(i)[2:].upper()).rjust(w,' '),str(bin(i)[2:]).rjust(w,' '),sep=' ')"
   ]
  },
  {
   "cell_type": "code",
   "execution_count": 81,
   "metadata": {
    "collapsed": false
   },
   "outputs": [
    {
     "name": "stdout",
     "output_type": "stream",
     "text": [
      "2\n",
      " 1  1  1  1\n",
      " 2  2  2 10\n"
     ]
    }
   ],
   "source": [
    "n = int(input())\n",
    "print_formatted(n)"
   ]
  },
  {
   "cell_type": "code",
   "execution_count": 1,
   "metadata": {
    "collapsed": false
   },
   "outputs": [
    {
     "name": "stdout",
     "output_type": "stream",
     "text": [
      "3\n",
      "----c----\n",
      "--c-b-c--\n",
      "c-b-a-b-c\n",
      "--c-b-c--\n",
      "----c----\n"
     ]
    }
   ],
   "source": [
    "import string\n",
    "alpha = string.ascii_lowercase\n",
    "\n",
    "n = int(input())\n",
    "L = []\n",
    "for i in range(n):\n",
    "    s = \"-\".join(alpha[i:n])    \n",
    "    L.append((s[::-1]+s[1:]).center(4*n-3, \"-\"))\n",
    "print('\\n'.join(L[:0:-1]+L))"
   ]
  },
  {
   "cell_type": "code",
   "execution_count": 2,
   "metadata": {
    "collapsed": true
   },
   "outputs": [],
   "source": [
    "def print_rangoli(size):\n",
    "    # your code goes here\n",
    "    alpha = string.ascii_lowercase\n",
    "    L = []\n",
    "    for i in range(size):\n",
    "        s = \"-\".join(alpha[i:size])    \n",
    "        L.append((s[::-1]+s[1:]).center(4*size-3, \"-\"))\n",
    "        \n",
    "    print('\\n'.join(L[:0:-1]+L))"
   ]
  },
  {
   "cell_type": "code",
   "execution_count": 4,
   "metadata": {
    "collapsed": false
   },
   "outputs": [
    {
     "name": "stdout",
     "output_type": "stream",
     "text": [
      "5\n",
      "--------e--------\n",
      "------e-d-e------\n",
      "----e-d-c-d-e----\n",
      "--e-d-c-b-c-d-e--\n",
      "e-d-c-b-a-b-c-d-e\n",
      "--e-d-c-b-c-d-e--\n",
      "----e-d-c-d-e----\n",
      "------e-d-e------\n",
      "--------e--------\n"
     ]
    }
   ],
   "source": [
    "n = int(input())\n",
    "print_rangoli(n)"
   ]
  },
  {
   "cell_type": "code",
   "execution_count": 4,
   "metadata": {
    "collapsed": true
   },
   "outputs": [],
   "source": [
    "import string\n",
    "def cap(st):\n",
    "    return string.capwords(st)\n"
   ]
  },
  {
   "cell_type": "code",
   "execution_count": 7,
   "metadata": {
    "collapsed": false
   },
   "outputs": [
    {
     "name": "stdout",
     "output_type": "stream",
     "text": [
      "John's School\n"
     ]
    }
   ],
   "source": [
    "st = \"john's    school\"\n",
    "capitalized_string = cap(st)\n",
    "print(capitalized_string)"
   ]
  },
  {
   "cell_type": "code",
   "execution_count": 8,
   "metadata": {
    "collapsed": true
   },
   "outputs": [],
   "source": [
    "st = \"john's  doe   school\"\n",
    "def capitalize(string):\n",
    "    l=string.split(\" \")\n",
    "    a = [i.capitalize() for i in l]       \n",
    "    return \" \".join(a)"
   ]
  },
  {
   "cell_type": "code",
   "execution_count": 9,
   "metadata": {
    "collapsed": false
   },
   "outputs": [
    {
     "name": "stdout",
     "output_type": "stream",
     "text": [
      "John's  Doe   School\n"
     ]
    }
   ],
   "source": [
    "print(capitalize(st))"
   ]
  },
  {
   "cell_type": "code",
   "execution_count": 7,
   "metadata": {
    "collapsed": true
   },
   "outputs": [],
   "source": [
    "def average(array):\n",
    "    # your code goes here\n",
    "    s = set(array)\n",
    "    print(s)\n",
    "    return sum(s)/len(s)\n"
   ]
  },
  {
   "cell_type": "code",
   "execution_count": null,
   "metadata": {
    "collapsed": true
   },
   "outputs": [],
   "source": []
  },
  {
   "cell_type": "code",
   "execution_count": 8,
   "metadata": {
    "collapsed": false
   },
   "outputs": [
    {
     "data": {
      "text/plain": [
       "5"
      ]
     },
     "execution_count": 8,
     "metadata": {},
     "output_type": "execute_result"
    }
   ],
   "source": [
    "str ='12  12 13 14 15'\n",
    "arr = list(map(int, str.split()))\n",
    "\n",
    "len(arr)"
   ]
  },
  {
   "cell_type": "code",
   "execution_count": 6,
   "metadata": {
    "collapsed": false
   },
   "outputs": [
    {
     "data": {
      "text/plain": [
       "4"
      ]
     },
     "execution_count": 6,
     "metadata": {},
     "output_type": "execute_result"
    }
   ],
   "source": [
    "s = set(arr)\n",
    "len(s)"
   ]
  },
  {
   "cell_type": "code",
   "execution_count": 9,
   "metadata": {
    "collapsed": false
   },
   "outputs": [
    {
     "name": "stdout",
     "output_type": "stream",
     "text": [
      "{12, 13, 14, 15}\n",
      "13.5\n"
     ]
    }
   ],
   "source": [
    "result = average(arr)\n",
    "print(result)"
   ]
  },
  {
   "cell_type": "code",
   "execution_count": 12,
   "metadata": {
    "collapsed": true
   },
   "outputs": [],
   "source": [
    "a = {2, 9, 5, 4}\n",
    "b = {2, 4, 11, 12}\n",
    "c = a.intersection(b)\n",
    "d= a.union(b)\n",
    "ans = d.difference(c)"
   ]
  },
  {
   "cell_type": "code",
   "execution_count": 13,
   "metadata": {
    "collapsed": false
   },
   "outputs": [
    {
     "data": {
      "text/plain": [
       "{5, 9, 11, 12}"
      ]
     },
     "execution_count": 13,
     "metadata": {},
     "output_type": "execute_result"
    }
   ],
   "source": [
    "ans\n"
   ]
  },
  {
   "cell_type": "code",
   "execution_count": null,
   "metadata": {
    "collapsed": false
   },
   "outputs": [],
   "source": [
    "M = input()\n",
    "arr1 = list(map(int, input().split()))\n",
    "a=set(arr1)\n",
    "N= input()\n",
    "arr2 = list(map(int, input().split()))\n",
    "b= set(arr2)\n",
    "c = a.intersection(b)\n",
    "d= a.union(b)\n",
    "ans = set ( d.difference(c))\n"
   ]
  },
  {
   "cell_type": "code",
   "execution_count": 21,
   "metadata": {
    "collapsed": false
   },
   "outputs": [
    {
     "data": {
      "text/plain": [
       "{1, 2, 3, 4, 5, 7, 8, 9}"
      ]
     },
     "execution_count": 21,
     "metadata": {},
     "output_type": "execute_result"
    }
   ],
   "source": [
    "ans\n"
   ]
  },
  {
   "cell_type": "code",
   "execution_count": 2,
   "metadata": {
    "collapsed": true
   },
   "outputs": [],
   "source": [
    "\n",
    "m =\"2 4 5 9\"\n",
    "arr1 = list(map(int, m.split()))\n",
    "a=set(arr1)\n"
   ]
  },
  {
   "cell_type": "code",
   "execution_count": 5,
   "metadata": {
    "collapsed": false
   },
   "outputs": [
    {
     "name": "stdout",
     "output_type": "stream",
     "text": [
      "5\n",
      "9\n",
      "11\n",
      "12\n"
     ]
    }
   ],
   "source": [
    "arr2 = list(map(int, '2 4 11 12'.split()))\n",
    "b= set(arr2)\n",
    "c = a.intersection(b)\n",
    "d= a.union(b)\n",
    "ans = sorted(set ( d.difference(c)))\n",
    "for i in ans :\n",
    "    print(i)"
   ]
  },
  {
   "cell_type": "code",
   "execution_count": 10,
   "metadata": {
    "collapsed": false
   },
   "outputs": [
    {
     "name": "stdout",
     "output_type": "stream",
     "text": [
      "3 2 \n",
      "1 4 6 7 8 9 \n",
      "1 6  7  8  9 \n",
      "6 7 8 2 3 \n",
      "2\n"
     ]
    }
   ],
   "source": [
    "n, m = input().split()\n",
    "\n",
    "sc_ar = input().split()\n",
    "A = set(input().split())\n",
    "B = set(input().split())\n",
    "def like ( a , b , sc_sr ):\n",
    "    sc = 0 \n",
    "    for i  in sc_ar  :  \n",
    "        if(i in a )  : sc = sc + 1 \n",
    "        if(i in b )  : sc = sc - 1\n",
    "    return sc\n",
    "print(like(A, B , sc_ar))\n",
    "#print sum([(i in A) - (i in B)\n",
    "          # for i in sc_ar])"
   ]
  },
  {
   "cell_type": "code",
   "execution_count": 14,
   "metadata": {
    "collapsed": false
   },
   "outputs": [],
   "source": [
    "s = set('HackerRank')\n",
    "#print s.add('HackerRank')\n",
    "st = [ 'UK' , 'China' ,'USA' , 'France' ,'New Zealand' ,'UK' ,'France']\n",
    "set_st = set(st)"
   ]
  },
  {
   "cell_type": "code",
   "execution_count": 21,
   "metadata": {
    "collapsed": false
   },
   "outputs": [
    {
     "name": "stdout",
     "output_type": "stream",
     "text": [
      "UK China USA France New Zealand UK France\n",
      "UK China USA France New Zealand UK France\n",
      "{'UK China USA France New Zealand UK France'}\n"
     ]
    }
   ],
   "source": [
    "st = input()\n",
    "print(st)\n",
    "list_st = [st]\n",
    "set_st = set(list_st)\n",
    "print(set_st)"
   ]
  },
  {
   "cell_type": "code",
   "execution_count": 16,
   "metadata": {
    "collapsed": false
   },
   "outputs": [
    {
     "name": "stdout",
     "output_type": "stream",
     "text": [
      "5\n"
     ]
    }
   ],
   "source": [
    "print(len(set_st))"
   ]
  },
  {
   "cell_type": "code",
   "execution_count": 30,
   "metadata": {
    "collapsed": false
   },
   "outputs": [
    {
     "name": "stdout",
     "output_type": "stream",
     "text": [
      "5\n",
      "UK\n",
      "Chine\n",
      "Chine\n",
      "France\n",
      "France\n",
      "3\n"
     ]
    }
   ],
   "source": [
    "num = input()\n",
    "st = set()\n",
    "for i in range(int(num)) :\n",
    "    st.add(input())\n",
    "print(len(st))\n"
   ]
  },
  {
   "cell_type": "markdown",
   "metadata": {},
   "source": [
    "9\n",
    "1 2 3 4 5 6 7 8 9\n",
    "10\n",
    "pop\n",
    "remove 9\n",
    "discard 9\n",
    "discard 8\n",
    "remove 7\n",
    "pop \n",
    "discard 6\n",
    "remove 5\n",
    "pop \n",
    "discard 5"
   ]
  },
  {
   "cell_type": "code",
   "execution_count": 7,
   "metadata": {
    "collapsed": false
   },
   "outputs": [
    {
     "name": "stdout",
     "output_type": "stream",
     "text": [
      "9\n",
      "1 2 3 4 5 6 7 8 9\n",
      "3\n",
      "remove 9\n",
      "2\n"
     ]
    },
    {
     "ename": "KeyError",
     "evalue": "9",
     "output_type": "error",
     "traceback": [
      "\u001b[0;31m---------------------------------------------------------------------------\u001b[0m",
      "\u001b[0;31mKeyError\u001b[0m                                  Traceback (most recent call last)",
      "\u001b[0;32m<ipython-input-7-df3e4feead84>\u001b[0m in \u001b[0;36m<module>\u001b[0;34m()\u001b[0m\n\u001b[1;32m     13\u001b[0m     \u001b[0;32melse\u001b[0m \u001b[0;34m:\u001b[0m\u001b[0;34m\u001b[0m\u001b[0m\n\u001b[1;32m     14\u001b[0m         \u001b[0mstr_st\u001b[0m \u001b[0;34m=\u001b[0m \u001b[0;34m'sc_set'\u001b[0m\u001b[0;34m+\u001b[0m\u001b[0;34m'.'\u001b[0m\u001b[0;34m+\u001b[0m \u001b[0min_com\u001b[0m \u001b[0;34m+\u001b[0m \u001b[0;34m'()'\u001b[0m\u001b[0;34m\u001b[0m\u001b[0m\n\u001b[0;32m---> 15\u001b[0;31m     \u001b[0meval\u001b[0m\u001b[0;34m(\u001b[0m\u001b[0mstr_st\u001b[0m\u001b[0;34m)\u001b[0m\u001b[0;34m\u001b[0m\u001b[0m\n\u001b[0m\u001b[1;32m     16\u001b[0m \u001b[0;34m\u001b[0m\u001b[0m\n\u001b[1;32m     17\u001b[0m \u001b[0;34m\u001b[0m\u001b[0m\n",
      "\u001b[0;32m<string>\u001b[0m in \u001b[0;36m<module>\u001b[0;34m()\u001b[0m\n",
      "\u001b[0;31mKeyError\u001b[0m: 9"
     ]
    }
   ],
   "source": [
    "num = input()\n",
    "sc_ar = input().split()\n",
    "sc_set = set(sc_ar)\n",
    "num_com = input()\n",
    "for i in range(int(num_com)) :\n",
    "    in_put = input().split()\n",
    "    in_com = in_put[0]\n",
    "    print(len(in_put))\n",
    "    str_st=''\n",
    "    if len(in_put) == 2  :     \n",
    "        in_param = in_put[1]\n",
    "        str_st = 'sc_set'+'.'+ in_com + '(' + in_param + ')'\n",
    "    else :  \n",
    "        str_st = 'sc_set'+'.'+ in_com + '()'   \n",
    "    eval(str_st)\n",
    "    \n",
    "    "
   ]
  },
  {
   "cell_type": "code",
   "execution_count": 26,
   "metadata": {
    "collapsed": false
   },
   "outputs": [
    {
     "name": "stdout",
     "output_type": "stream",
     "text": [
      "1998\n",
      "False\n"
     ]
    }
   ],
   "source": [
    "year = int(input())\n",
    "leap = False\n",
    "if( (year%400 == 0) or  all ([year %100 !=0 ,  year%4 == 0 ])) :  leap = True \n",
    "print(leap)"
   ]
  },
  {
   "cell_type": "code",
   "execution_count": 48,
   "metadata": {
    "collapsed": false
   },
   "outputs": [
    {
     "name": "stdout",
     "output_type": "stream",
     "text": [
      "20\n",
      "1234567891011121314151617181920"
     ]
    }
   ],
   "source": [
    "from __future__ import print_function\n",
    "n = int(input())\n",
    "l = list(range(1,n+1))\n",
    "for item in l :\n",
    "    print(item, sep=' ', end='', flush=True)\n",
    "      \n",
    "#for i in range(n) :\n",
    "#    print(i)\n"
   ]
  },
  {
   "cell_type": "code",
   "execution_count": 66,
   "metadata": {
    "collapsed": false
   },
   "outputs": [
    {
     "name": "stdout",
     "output_type": "stream",
     "text": [
      "9\n",
      "1 2 3 4 5 6 7 8 9\n",
      "3\n",
      "pop\n",
      "pop\n",
      "pop\n",
      "39\n"
     ]
    }
   ],
   "source": [
    "n = int(input())\n",
    "set_s = set(map(int, input().split())) \n",
    "for i in range(int(input())):\n",
    "    ft = list(input().split())\n",
    "    eval('set_s.{0}({1})'.format(*ft +[''] ))\n",
    "\n",
    "print(sum(set_s))"
   ]
  },
  {
   "cell_type": "code",
   "execution_count": null,
   "metadata": {
    "collapsed": true
   },
   "outputs": [],
   "source": [
    "pop\n",
    "remove 9\n",
    "discard 9\n",
    "discard 8\n",
    "remove 7\n",
    "pop\n",
    "discard 6\n",
    "remove 5\n",
    "pop\n",
    "discard 5"
   ]
  },
  {
   "cell_type": "code",
   "execution_count": 74,
   "metadata": {
    "collapsed": false
   },
   "outputs": [
    {
     "name": "stdout",
     "output_type": "stream",
     "text": [
      "9\n",
      "1 2 3 4 5 6 7 8 9\n",
      "3\n",
      "pop\n",
      "remove 9\n",
      "discard 9\n",
      "35\n"
     ]
    }
   ],
   "source": [
    "n = int(input())\n",
    "s = set(map(int, input().split())) \n",
    "\n",
    "for _ in range(int(input())):\n",
    "    args = input().strip().split()\n",
    "    \n",
    "    if args[0] == \"pop\": \n",
    "        s.pop()\n",
    "    else:\n",
    "        eval(\"s.\" + args[0] + \"(\" + args[1] + \")\")\n",
    "        \n",
    "print(sum(s))  \n",
    "#pop\n",
    "#remove 9\n",
    "#discard 9\n",
    "#discard 8\n",
    "#remove 7 pop discard 6 remove 5 pop discard 5"
   ]
  },
  {
   "cell_type": "code",
   "execution_count": 78,
   "metadata": {
    "collapsed": false
   },
   "outputs": [
    {
     "name": "stdout",
     "output_type": "stream",
     "text": [
      "9\n",
      "1 2 3 4 5 6 7 8 9\n",
      "3\n",
      "pop\n",
      "remove 9\n",
      "discard 9\n",
      "35\n"
     ]
    }
   ],
   "source": [
    "n = input()\n",
    "s = set(map(int, input().split())) \n",
    "\n",
    "for _ in range(int(input())):\n",
    "    x = list(input().split())\n",
    "    eval('s.{0}({1})'.format(*x+['']))\n",
    "print (sum(s))"
   ]
  },
  {
   "cell_type": "code",
   "execution_count": 4,
   "metadata": {
    "collapsed": false
   },
   "outputs": [
    {
     "name": "stdout",
     "output_type": "stream",
     "text": [
      "1 2 3 4 5 6 7 8 9\n",
      "6 7 10 13 15 \n",
      "12\n"
     ]
    }
   ],
   "source": [
    "li1 = input().split()\n",
    "s1 = set(li1)\n",
    "li2 = input().split()\n",
    "s2 = set(li2)\n",
    "s1s2 = s1.union(s2)\n",
    "print(len(s1s2))"
   ]
  },
  {
   "cell_type": "code",
   "execution_count": 5,
   "metadata": {
    "collapsed": false
   },
   "outputs": [
    {
     "name": "stdout",
     "output_type": "stream",
     "text": [
      "1 2 3 4 5 6 7 8 9\n",
      "6 7 10 13 15 \n",
      "2\n"
     ]
    }
   ],
   "source": [
    "n1=input()\n",
    "li1 = input().split()\n",
    "s1 = set(li1)\n",
    "n2=input()\n",
    "li2 = input().split()\n",
    "s2 = set(li2)\n",
    "s1s2 = s1.intersection(s2)\n",
    "print(len(s1s2))"
   ]
  },
  {
   "cell_type": "code",
   "execution_count": 8,
   "metadata": {
    "collapsed": false
   },
   "outputs": [
    {
     "name": "stdout",
     "output_type": "stream",
     "text": [
      "9\n",
      "1 2 3 4 5 6 7 8 9\n",
      "5\n",
      "6 7 10 13 15\n",
      "10\n"
     ]
    }
   ],
   "source": [
    "n1=input()\n",
    "li1 = input().split()\n",
    "s1 = set(li1)\n",
    "n2=input()\n",
    "li2 = input().split()\n",
    "s2 = set(li2)\n",
    "s1s2 = s1.symmetric_difference(s2)\n",
    "print(len(s1s2))"
   ]
  },
  {
   "cell_type": "code",
   "execution_count": 9,
   "metadata": {
    "collapsed": false
   },
   "outputs": [
    {
     "name": "stdout",
     "output_type": "stream",
     "text": [
      "16\n",
      "1 2 3 4 5 6 7 8 9 10 11 12 13 14 24 52\n",
      "4\n",
      "intersection_update 10\n",
      "2 3 5 6 8 9 1 4 7 11\n",
      "update 2\n",
      "55 66\n",
      "symmetric_difference_update 5\n",
      "22 7 35 62 58\n",
      "difference_update 7\n",
      "11 22 35 55 58 62 66\n",
      "None\n"
     ]
    }
   ],
   "source": [
    "n = input()\n",
    "s = set(map(int, input().split())) \n",
    "\n",
    "for _ in range(int(input())):\n",
    "    x = list(input().split())\n",
    "    nw= set(map(int, input().split())) \n",
    "    fi = eval('s.{0}(nw)'.format(*x+['']))\n",
    "print(fi)"
   ]
  },
  {
   "cell_type": "code",
   "execution_count": 3,
   "metadata": {
    "collapsed": false
   },
   "outputs": [
    {
     "name": "stdout",
     "output_type": "stream",
     "text": [
      "16\n",
      "1 2 3 4 5 6 7 8 9 10 11 12 13 14 24 52\n",
      "4\n",
      "intersection_update 10\n",
      "2 3 5 6 8 9 1 4 7 11\n",
      "update 2\n",
      "55 66\n",
      "symmetric_difference_update 5\n",
      "22 7 35 62 58\n",
      "difference_update 7\n",
      "11 22 35 55 58 62 66\n",
      "{1, 2, 3, 4, 5, 6, 8, 9}\n"
     ]
    }
   ],
   "source": [
    "n = input()\n",
    "s = set(map(int, input().split())) \n",
    "\n",
    "for _ in range(int(input())):\n",
    "    args = input().strip().split()\n",
    "    nw= set(map(int, input().split())) \n",
    "    eval(\"s.\" + args[0] + \"(  nw  )\")\n",
    "print(sum(s))\n"
   ]
  },
  {
   "cell_type": "code",
   "execution_count": 20,
   "metadata": {
    "collapsed": false
   },
   "outputs": [
    {
     "name": "stdout",
     "output_type": "stream",
     "text": [
      "5\n",
      "1 2 3 6 5 4 4 2 5 3 6 1 6 5 3 2 4 1 2 5 1 4 3 6 8 4 3 1 5 6 \n",
      "8\n"
     ]
    }
   ],
   "source": [
    "import collections\n",
    "n = input()\n",
    "s = list(map(int, input().split())) \n",
    "lis = sorted(s)\n",
    "counter=collections.Counter(lis)\n",
    "d = dict(counter)\n",
    "print( [k for k, v in d.items() if v == 1][0])\n",
    "    "
   ]
  },
  {
   "cell_type": "code",
   "execution_count": 42,
   "metadata": {
    "collapsed": false
   },
   "outputs": [
    {
     "name": "stdout",
     "output_type": "stream",
     "text": [
      "2\n",
      "3\n",
      "1 2 3\n",
      "9\n",
      "1 3 5 6 8 9 0 9 8\n",
      "2\n",
      "1 2 \n",
      "3\n",
      "1 4 5 \n",
      "False\n",
      "False\n"
     ]
    }
   ],
   "source": [
    "l = []\n",
    "for i in range(int(input())):\n",
    "    n1 ,  set1  , n2 , set2= input(), set(map(int, input().split())),input() ,set(map(int, input().split()))   \n",
    "    l.append((set1 < set2))\n",
    "for i in  l : print (i)"
   ]
  },
  {
   "cell_type": "code",
   "execution_count": null,
   "metadata": {
    "collapsed": true
   },
   "outputs": [],
   "source": []
  },
  {
   "cell_type": "code",
   "execution_count": null,
   "metadata": {
    "collapsed": true
   },
   "outputs": [],
   "source": [
    "1 2 3 5 6\n",
    "9\n",
    "\n"
   ]
  },
  {
   "cell_type": "code",
   "execution_count": 2,
   "metadata": {
    "collapsed": false
   },
   "outputs": [
    {
     "name": "stdout",
     "output_type": "stream",
     "text": [
      "1 2 3 4 5 6 7 8 9 10 11 12 23 45 84 7\n",
      "3 \n",
      "2  3 \n",
      "4 5 \n",
      "34\n",
      "False\n"
     ]
    }
   ],
   "source": [
    "mainset = set(map(int, input().split()))\n",
    "superset = True\n",
    "for _ in range(int(input())):\n",
    "    subset = set(map(int, input().split()))\n",
    "    superset =  mainset.issuperset(subset)\n",
    "    if(not superset): break\n",
    "print(superset)"
   ]
  },
  {
   "cell_type": "code",
   "execution_count": 4,
   "metadata": {
    "collapsed": false
   },
   "outputs": [
    {
     "name": "stdout",
     "output_type": "stream",
     "text": [
      "2 3 \n",
      "1 2 3 \n",
      "2 3 4 \n",
      "[[1 2]\n",
      " [2 3]\n",
      " [3 4]]\n",
      "[1 2 3 2 3 4]\n"
     ]
    }
   ],
   "source": [
    "import numpy\n",
    "n, m = map(int, input().split())\n",
    "array = numpy.array([input().strip().split() for _ in range(n)], int)\n",
    "print (array.transpose())\n",
    "print (array.flatten())"
   ]
  },
  {
   "cell_type": "code",
   "execution_count": 6,
   "metadata": {
    "collapsed": false
   },
   "outputs": [],
   "source": [
    "array = numpy.array([[1, 2, 3 ],[2 ,3 ,4]])"
   ]
  },
  {
   "cell_type": "code",
   "execution_count": 7,
   "metadata": {
    "collapsed": false
   },
   "outputs": [
    {
     "data": {
      "text/plain": [
       "array([[1, 2, 3],\n",
       "       [2, 3, 4]])"
      ]
     },
     "execution_count": 7,
     "metadata": {},
     "output_type": "execute_result"
    }
   ],
   "source": [
    "array\n",
    "np.concatenate((a, b))"
   ]
  },
  {
   "cell_type": "code",
   "execution_count": 12,
   "metadata": {
    "collapsed": false
   },
   "outputs": [
    {
     "name": "stdout",
     "output_type": "stream",
     "text": [
      "2 2 \n",
      "2 5 \n",
      "2 6\n",
      "[[2 2]\n",
      " [5 6]]\n",
      "[2 5 2 6]\n"
     ]
    }
   ],
   "source": [
    "import numpy\n",
    "n, m = map(int, input().split())\n",
    "arr = numpy.zeros(shape=(n,m))\n",
    "for i in range(n):\n",
    "    arr[i] = list(map(int, input().split()))\n",
    "arr = arr.astype(int)\n",
    "print (arr.transpose())\n",
    "print (arr.flatten())"
   ]
  },
  {
   "cell_type": "markdown",
   "metadata": {},
   "source": [
    "### Concatenate (Dashboard  Python  Numpy  Concatenate)"
   ]
  },
  {
   "cell_type": "code",
   "execution_count": 29,
   "metadata": {
    "collapsed": false
   },
   "outputs": [
    {
     "name": "stdout",
     "output_type": "stream",
     "text": [
      "4 3 2\n",
      "1 2\n",
      "1 2\n",
      "1 2\n",
      "1 2\n",
      "2 3\n",
      "2 3\n",
      "2 3\n",
      "[[1 2]\n",
      " [1 2]\n",
      " [1 2]\n",
      " [1 2]]\n",
      "[[2 3]\n",
      " [2 3]\n",
      " [2 3]]\n",
      "[[1 2]\n",
      " [1 2]\n",
      " [1 2]\n",
      " [1 2]\n",
      " [2 3]\n",
      " [2 3]\n",
      " [2 3]]\n"
     ]
    }
   ],
   "source": [
    "import numpy\n",
    "N , M , P = map(int , input().strip().split(' '))\n",
    "array_N  = numpy.zeros(shape=(N,P))\n",
    "for i in range(N):\n",
    "    array_N[i] = list(map(int,input().strip().split()))\n",
    "array_M =  numpy.zeros(shape=(M,P))\n",
    "for i in range(M):\n",
    "    array_M[i]= list(map(int,input().strip().split()))\n",
    "array_M = array_M.astype(int)\n",
    "array_N = array_N.astype(int)\n",
    "#print(array_N)\n",
    "#print(array_M)\n",
    "print (numpy.concatenate((array_N, array_M), axis = 0))   \n",
    "\n",
    "#print(array_M)\n",
    "\n"
   ]
  },
  {
   "cell_type": "markdown",
   "metadata": {},
   "source": [
    "### Zeros and Ones"
   ]
  },
  {
   "cell_type": "code",
   "execution_count": 38,
   "metadata": {
    "collapsed": false
   },
   "outputs": [
    {
     "name": "stdout",
     "output_type": "stream",
     "text": [
      "3\n",
      "[0 0 0]\n",
      "[1 1 1]\n"
     ]
    }
   ],
   "source": [
    "import numpy\n",
    "in_list = list(map(int , input().strip().split(' ')))\n",
    "if(len(in_list) == 3 )  :\n",
    "    array_N  = numpy.zeros(shape=(in_list[0], in_list[1] , in_list[2]))\n",
    "    array_M  = numpy.ones(shape=(in_list[0], in_list[1] , in_list[2]))\n",
    "elif (len(in_list) == 2 )  :\n",
    "    array_N  = numpy.zeros(shape=(in_list[0], in_list[1] ))\n",
    "    array_M  = numpy.ones(shape=(in_list[0], in_list[1] ))\n",
    "else   :\n",
    "    array_N  = numpy.zeros(shape=(in_list[0] ))\n",
    "    array_M  = numpy.ones(shape=(in_list[0] ))\n",
    "    \n",
    "array_N = array_N.astype(int)\n",
    "array_M = array_M.astype(int)\n",
    "print(array_N)\n",
    "print(array_M)"
   ]
  },
  {
   "cell_type": "code",
   "execution_count": 44,
   "metadata": {
    "collapsed": false
   },
   "outputs": [
    {
     "name": "stdout",
     "output_type": "stream",
     "text": [
      "[[[[ 0.  0.  0.  0.]\n",
      "   [ 0.  0.  0.  0.]\n",
      "   [ 0.  0.  0.  0.]]\n",
      "\n",
      "  [[ 0.  0.  0.  0.]\n",
      "   [ 0.  0.  0.  0.]\n",
      "   [ 0.  0.  0.  0.]]]\n",
      "\n",
      "\n",
      " [[[ 0.  0.  0.  0.]\n",
      "   [ 0.  0.  0.  0.]\n",
      "   [ 0.  0.  0.  0.]]\n",
      "\n",
      "  [[ 0.  0.  0.  0.]\n",
      "   [ 0.  0.  0.  0.]\n",
      "   [ 0.  0.  0.  0.]]]\n",
      "\n",
      "\n",
      " [[[ 0.  0.  0.  0.]\n",
      "   [ 0.  0.  0.  0.]\n",
      "   [ 0.  0.  0.  0.]]\n",
      "\n",
      "  [[ 0.  0.  0.  0.]\n",
      "   [ 0.  0.  0.  0.]\n",
      "   [ 0.  0.  0.  0.]]]]\n"
     ]
    }
   ],
   "source": [
    "print( numpy.zeros(shape= (3,2,3,4)))"
   ]
  },
  {
   "cell_type": "code",
   "execution_count": 90,
   "metadata": {
    "collapsed": false
   },
   "outputs": [
    {
     "name": "stdout",
     "output_type": "stream",
     "text": [
      "1 2 3 \n",
      "[[[0 0 0]\n",
      "  [0 0 0]]]\n",
      "[[[1 1 1]\n",
      "  [1 1 1]]]\n"
     ]
    }
   ],
   "source": [
    "import numpy\n",
    "N = tuple(map(int, input().split()))\n",
    "array_N  = numpy.zeros(N , int)\n",
    "array_M  = numpy.ones(N,int)\n",
    "\n",
    "print(array_N)\n",
    "print(array_M)"
   ]
  },
  {
   "cell_type": "code",
   "execution_count": 61,
   "metadata": {
    "collapsed": false
   },
   "outputs": [
    {
     "name": "stdout",
     "output_type": "stream",
     "text": [
      "4 3 \n",
      "[[ 1.  0.  0.]\n",
      " [ 0.  1.  0.]\n",
      " [ 0.  0.  1.]\n",
      " [ 0.  0.  0.]]\n"
     ]
    }
   ],
   "source": [
    "import numpy\n",
    "N,M = (map(int, input().split()))\n",
    "print( numpy.eye(N, M, k = 0))"
   ]
  },
  {
   "cell_type": "markdown",
   "metadata": {},
   "source": [
    "### Array Mathematics (Dashboard  Python  Numpy  Array Mathematics)"
   ]
  },
  {
   "cell_type": "code",
   "execution_count": 66,
   "metadata": {
    "collapsed": false
   },
   "outputs": [
    {
     "name": "stdout",
     "output_type": "stream",
     "text": [
      "1 4 \n",
      "[[ 1.  0.  0.  0.]]\n",
      "1 2 3 4\n",
      "5 6 7 8\n",
      "[[ 6  8 10 12]]\n",
      "[[-4 -4 -4 -4]]\n",
      "[[ 5 12 21 32]]\n",
      "[[0 0 0 0]]\n",
      "[[1 2 3 4]]\n",
      "[[    1    64  2187 65536]]\n"
     ]
    }
   ],
   "source": [
    "import numpy\n",
    "N,M = (map(int, input().split()))\n",
    "\n",
    "\n",
    "A  = numpy.zeros(shape=(N,M))\n",
    "A = A.astype(int)\n",
    "for i in range(N):\n",
    "    A[i] = list(map(int,input().strip().split()))\n",
    "\n",
    "B  = numpy.zeros(shape=(N,M))\n",
    "B = B.astype(int)\n",
    "for i in range(N):\n",
    "    B[i] = list(map(int,input().strip().split()))\n",
    "print(A+B)\n",
    "print(A-B)\n",
    "print(A*B)\n",
    "print((A/B).astype(int))\n",
    "print(A%B)\n",
    "print(A**B)"
   ]
  },
  {
   "cell_type": "markdown",
   "metadata": {},
   "source": [
    "### Floor, Ceil and Rint"
   ]
  },
  {
   "cell_type": "code",
   "execution_count": 75,
   "metadata": {
    "collapsed": false
   },
   "outputs": [
    {
     "name": "stdout",
     "output_type": "stream",
     "text": [
      "1.1  2.2  3.3  4.4  5.5  6.6  7.7  8.8  9.9\n",
      "[ 1.  2.  3.  4.  5.  6.  7.  8.  9.]\n",
      "[  2.   3.   4.   5.   6.   7.   8.   9.  10.]\n",
      "[  1.   2.   3.   4.   6.   7.   8.   9.  10.]\n"
     ]
    }
   ],
   "source": [
    "import numpy\n",
    "my_array = numpy.array((input().split()), float)\n",
    "print(numpy.floor(my_array))\n",
    "print (numpy.ceil(my_array))\n",
    "print (numpy.rint(my_array))\n"
   ]
  },
  {
   "cell_type": "code",
   "execution_count": null,
   "metadata": {
    "collapsed": true
   },
   "outputs": [],
   "source": [
    "1.1  2.2  3.3  4.4  5.5  6.6  7.7  8.8  9.9"
   ]
  },
  {
   "cell_type": "markdown",
   "metadata": {},
   "source": [
    "### Sum and Prod"
   ]
  },
  {
   "cell_type": "code",
   "execution_count": 80,
   "metadata": {
    "collapsed": false
   },
   "outputs": [
    {
     "name": "stdout",
     "output_type": "stream",
     "text": [
      "2 2\n",
      "1 2\n",
      "3 4\n",
      "24\n"
     ]
    }
   ],
   "source": [
    "import numpy\n",
    "N,M = (map(int, input().split()))\n",
    "A  = numpy.zeros(shape=(N,M))\n",
    "A = A.astype(int)\n",
    "for i in range(N):\n",
    "    A[i] = list(map(int,input().strip().split()))\n",
    "B=numpy.sum(A, axis = 0)\n",
    "print( numpy.prod(B, axis = 0))\n",
    "\n",
    "#print (A)"
   ]
  },
  {
   "cell_type": "markdown",
   "metadata": {},
   "source": [
    "### Min and Max"
   ]
  },
  {
   "cell_type": "code",
   "execution_count": 81,
   "metadata": {
    "collapsed": false
   },
   "outputs": [
    {
     "name": "stdout",
     "output_type": "stream",
     "text": [
      "4 2\n",
      "2 5\n",
      "3 7\n",
      "1 3\n",
      "4 0\n",
      "3\n"
     ]
    }
   ],
   "source": [
    "import numpy\n",
    "N,M = (map(int, input().split()))\n",
    "A  = numpy.zeros(shape=(N,M))\n",
    "A = A.astype(int)\n",
    "for i in range(N):\n",
    "    A[i] = list(map(int,input().strip().split()))\n",
    "B=numpy.min(A, axis = 1)\n",
    "print( numpy.max(B))"
   ]
  },
  {
   "cell_type": "code",
   "execution_count": null,
   "metadata": {
    "collapsed": true
   },
   "outputs": [],
   "source": [
    "4 2\n",
    "2 5\n",
    "3 7\n",
    "1 3\n",
    "4 0"
   ]
  },
  {
   "cell_type": "markdown",
   "metadata": {},
   "source": [
    "### Mean, Var, and Std"
   ]
  },
  {
   "cell_type": "code",
   "execution_count": 82,
   "metadata": {
    "collapsed": false
   },
   "outputs": [
    {
     "name": "stdout",
     "output_type": "stream",
     "text": [
      "2 2\n",
      "1 2\n",
      "3 4\n",
      "[ 1.5  3.5]\n",
      "[ 1.  1.]\n",
      "1.11803398875\n"
     ]
    }
   ],
   "source": [
    "import numpy\n",
    "N,M = (map(int, input().split()))\n",
    "A  = numpy.zeros(shape=(N,M))\n",
    "A = A.astype(int)\n",
    "for i in range(N):\n",
    "    A[i] = list(map(int,input().strip().split()))\n",
    "print(numpy.mean(A, axis = 1))\n",
    "print( numpy.var(A, axis=0))\n",
    "print(numpy.std(A))"
   ]
  },
  {
   "cell_type": "markdown",
   "metadata": {},
   "source": [
    "### Dot and Cross"
   ]
  },
  {
   "cell_type": "code",
   "execution_count": null,
   "metadata": {
    "collapsed": true
   },
   "outputs": [],
   "source": [
    "2\n",
    "1 2\n",
    "3 4\n",
    "1 2\n",
    "3 4\n",
    "\n",
    "[[ 7 10]\n",
    " [15 22]]"
   ]
  },
  {
   "cell_type": "code",
   "execution_count": 89,
   "metadata": {
    "collapsed": false
   },
   "outputs": [
    {
     "name": "stdout",
     "output_type": "stream",
     "text": [
      "0 1\n",
      "2 3\n",
      "3\n",
      "[[0 0]\n",
      " [2 3]]\n"
     ]
    }
   ],
   "source": [
    "import numpy\n",
    "A=numpy.array(list(map(int,input().strip().split())),int)\n",
    "B=numpy.array(list(map(int,input().strip().split())),int)\n",
    "print(numpy.inner(A, B))\n",
    "print(numpy.outer(A, B))\n",
    "\n"
   ]
  },
  {
   "cell_type": "markdown",
   "metadata": {},
   "source": [
    "### Inner and Outer "
   ]
  },
  {
   "cell_type": "code",
   "execution_count": null,
   "metadata": {
    "collapsed": true
   },
   "outputs": [],
   "source": [
    "import numpy\n",
    "N = int(input())\n",
    "\n",
    "\n",
    "A=numpy.array([input().split() for i in range(N)],int)\n",
    "B=numpy.array([input().split() for i in range(N)],int)\n",
    "print(numpy.dot(A, B))"
   ]
  },
  {
   "cell_type": "markdown",
   "metadata": {},
   "source": [
    "### determinents"
   ]
  },
  {
   "cell_type": "markdown",
   "metadata": {},
   "source": [
    "N = int(input())\n",
    "A = numpy.array([input().split() for i in range(N)], numpy.float)\n",
    "print( numpy.linalg.det(A))"
   ]
  },
  {
   "cell_type": "markdown",
   "metadata": {},
   "source": [
    "### Numpy Loops "
   ]
  },
  {
   "cell_type": "code",
   "execution_count": 94,
   "metadata": {
    "collapsed": false
   },
   "outputs": [
    {
     "name": "stdout",
     "output_type": "stream",
     "text": [
      "5\n",
      "0\n",
      "1\n",
      "4\n",
      "9\n",
      "16\n"
     ]
    }
   ],
   "source": [
    "n = int(input())\n",
    "for i in range(n):\n",
    "    print(i*i)"
   ]
  },
  {
   "cell_type": "code",
   "execution_count": 100,
   "metadata": {
    "collapsed": false
   },
   "outputs": [
    {
     "name": "stdout",
     "output_type": "stream",
     "text": [
      "100,000,000.000\n",
      "100\n",
      "000\n",
      "000\n",
      "000\n"
     ]
    },
    {
     "name": "stderr",
     "output_type": "stream",
     "text": [
      "/Users/jyothi/anaconda/lib/python3.5/re.py:203: FutureWarning: split() requires a non-empty pattern match.\n",
      "  return _compile(pattern, flags).split(string, maxsplit)\n"
     ]
    }
   ],
   "source": [
    "import re\n",
    "l = re.split('[\\, \\.]*',input())\n",
    "for i in l : \n",
    "    print(i)\n"
   ]
  },
  {
   "cell_type": "code",
   "execution_count": null,
   "metadata": {
    "collapsed": true
   },
   "outputs": [],
   "source": [
    "100,000,000.000"
   ]
  },
  {
   "cell_type": "code",
   "execution_count": 115,
   "metadata": {
    "collapsed": false
   },
   "outputs": [
    {
     "name": "stdout",
     "output_type": "stream",
     "text": [
      "virus!@variable.:p\n",
      "not valid:::\n"
     ]
    }
   ],
   "source": [
    "import re\n",
    "def email(in_put ):\n",
    "    email = in_put\n",
    "    match = re.search(r'[\\w.-]+@[\\w.-]+.\\w+', email)\n",
    "\n",
    "    if match:\n",
    "        #print( \"valid email :::\", match.group())\n",
    "        return True\n",
    "    else:\n",
    "        #print (\"not valid:::\")\n",
    "        return False\n",
    "email(input())"
   ]
  },
  {
   "cell_type": "code",
   "execution_count": null,
   "metadata": {
    "collapsed": true
   },
   "outputs": [],
   "source": []
  },
  {
   "cell_type": "markdown",
   "metadata": {},
   "source": [
    "### Validating and Parsing Email Addresses"
   ]
  },
  {
   "cell_type": "code",
   "execution_count": 79,
   "metadata": {
    "collapsed": false
   },
   "outputs": [
    {
     "name": "stdout",
     "output_type": "stream",
     "text": [
      "6\n",
      "shashank@9mail.com\n",
      "shashank@gmail.9om\n",
      "shashank@gma_il.com\n",
      "shashank@mail.moc\n",
      "shashank@company-mail.com\n",
      "shashank@companymail.c_o\n",
      "shashank@mail.moc\n"
     ]
    }
   ],
   "source": [
    "import email.utils\n",
    "import re\n",
    "N  = int(input())\n",
    "l =[]\n",
    "for i in range(N):\n",
    "    address = input()\n",
    "    li =  email.utils.parseaddr(address)\n",
    "    \n",
    "    e = str(li[1])\n",
    "    match = re.search(r'^[a-z0-9][\\w._-]+@[a-z]+\\.[a-z]{1,3}$',e)\n",
    "    #match = re.search(r'[a-z0-9][\\w._-]+@[\\w.-]+.\\w+', e)\n",
    "    \n",
    "    #match = re.search(r'^(?!^\\.)(?!.*[-_.]$)[a-zA-Z0-9]+@[a-z]+\\.[a-z]{1,3}', e, re.I)\n",
    "     # r'([\\w.-]+)@((?:[\\w]+\\.)+)([a-zA-Z][2,4])'\n",
    "    \n",
    "    if match:\n",
    "        #print(address)\n",
    "        l.append(address)\n",
    "for i in l:\n",
    "    print(i)\n",
    "       \n",
    "        \n",
    "    "
   ]
  },
  {
   "cell_type": "markdown",
   "metadata": {},
   "source": [
    "### Validating UID"
   ]
  },
  {
   "cell_type": "code",
   "execution_count": null,
   "metadata": {
    "collapsed": true
   },
   "outputs": [],
   "source": [
    "A valid UID must follow the rules below:\n",
    "\n",
    "1.It must contain at least 2 uppercase English alphabet characters.\n",
    "2.It must contain at least 3  digits (0 - 9).\n",
    "3.It should only contain alphanumeric characters (a - z, A - Z & 0 -9 ).\n",
    "4.No character should repeat.\n",
    "5.There must be exactly 10 characters in a valid UID."
   ]
  },
  {
   "cell_type": "code",
   "execution_count": 11,
   "metadata": {
    "collapsed": false
   },
   "outputs": [
    {
     "name": "stdout",
     "output_type": "stream",
     "text": [
      "2\n",
      "B1CDEF2354\n",
      "B1CD102354\n",
      "Valid\n",
      "Invalid\n"
     ]
    }
   ],
   "source": [
    "import re\n",
    "li = []\n",
    "for i in range(int(input())):\n",
    "    s = input()   \n",
    "    if all([re.search(r, s) for r in [r'[A-Za-z0-9]{10}',r'([A-Z].*){2}',r'([0-9].*){3}']]) and not re.search(r'.*(.).*\\1', s) : \n",
    "        li.append(\"Valid\")       \n",
    "    else :\n",
    "        li.append(\"Invalid\")\n",
    "for i in li : \n",
    "    print(i)"
   ]
  },
  {
   "cell_type": "markdown",
   "metadata": {
    "collapsed": true
   },
   "source": [
    "### Validating Credit Card Numbers"
   ]
  },
  {
   "cell_type": "code",
   "execution_count": null,
   "metadata": {
    "collapsed": true
   },
   "outputs": [],
   "source": [
    "A valid credit card from ABCD Bank has the following characteristics: \n",
    "\n",
    "► It must start with a 4,5  or 6. \n",
    "► It must contain exactly  16 digits. \n",
    "► It must only consist of digits (0-9). \n",
    "► It may have digits in groups of 4, separated by one hyphen \"-\". \n",
    "► It must NOT use any other separator like ' ' , '_', etc. \n",
    "► It must NOT have 4 or more consecutive repeated digits.\n",
    "\n",
    "Examples:\n",
    "\n",
    "Valid Credit Card Numbers\n",
    "\n",
    "4253625879615786\n",
    "4424424424442444\n",
    "5122-2368-7954-3214\n",
    "Invalid Credit Card Numbers\n",
    "\n",
    "42536258796157867       #17 digits in card number → Invalid \n",
    "4424444424442444        #Consecutive digits are repeating 4 or more times → Invalid\n",
    "5122-2368-7954 - 3214   #Separators other than '-' are used → Invalid\n",
    "44244x4424442444        #Contains non digit characters → Invalid\n",
    "0525362587961578        #Doesn't start with 4, 5 or 6 → Invalid"
   ]
  },
  {
   "cell_type": "code",
   "execution_count": null,
   "metadata": {
    "collapsed": true
   },
   "outputs": [],
   "source": [
    "import re\n",
    "li = []\n",
    "for i in range(int(input())):\n",
    "    s = input()\n",
    "    \n",
    "    if all([re.search(r, s) for r in [r'^[456]{16}',r'([A-Z].*){2}',r'([0-9])']]) and not re.search(r'.*(.).*\\1', s) : \n",
    "        li.append(\"Valid\")\n",
    "       \n",
    "    else :\n",
    "        li.append(\"Invalid\")"
   ]
  },
  {
   "cell_type": "code",
   "execution_count": null,
   "metadata": {
    "collapsed": true
   },
   "outputs": [],
   "source": [
    "import re\n",
    "\n",
    "[print('Valid' if re.match(r'^[456]\\d{3}(?:-?\\d{4}){3}$', card) and not re.search(r'(\\d)\\1{3}', re.sub('-', '', card)) else 'Invalid') for card in [input() for _ in range(int(input()))]]"
   ]
  },
  {
   "cell_type": "code",
   "execution_count": null,
   "metadata": {
    "collapsed": true
   },
   "outputs": [],
   "source": [
    "You may do this in 2 regexes:\n",
    "\n",
    "/^(?=.*[a-z])(?=.*[0-9])[a-z0-9]+$/i This will assure that there is at least 1 digit and 1 letter while accepting only letters and digits (no space or special characters)\n",
    "/([a-z0-9])\\1{2,}/i If this one is matched, then there is a repeated character. Which means you should throw false.\n",
    "Explanation:\n",
    "\n",
    "First regex:\n",
    "\n",
    "^ : match begin of line\n",
    "(?=.*[a-z]) : check if there is at least one letter\n",
    "(?=.*[0-9]) : check if there is at least one digit\n",
    "[a-z0-9]+ : if the checks were true, then match only digits/letters one or more times\n",
    "$ : match end of line\n",
    "i : modifier, match case insensitive\n",
    "Second regex:\n",
    "\n",
    "([a-z0-9]) : match and group a digit or a letter\n",
    "\\1{2,} : match group 1 two or more times\n",
    "i : modifier, match case insensitive"
   ]
  },
  {
   "cell_type": "code",
   "execution_count": 15,
   "metadata": {
    "collapsed": false
   },
   "outputs": [
    {
     "name": "stdout",
     "output_type": "stream",
     "text": [
      "2\n",
      "4123456789123456\n",
      "5133-3367-8912-3456\n",
      "Valid\n",
      "invalid\n"
     ]
    }
   ],
   "source": [
    "import re\n",
    "regx = re.compile(r'(?=^[456])(?!.*(\\d)(?:-?\\1){3,})^(?:\\d{4}-?){4}$')\n",
    "li = []\n",
    "for i in range(int(input())):\n",
    "    if bool(regx.match(input())):\n",
    "        li.append(\"Valid\")\n",
    "    else :\n",
    "        li.append(\"Invalid\")\n",
    "for i in li : \n",
    "    print (i)"
   ]
  },
  {
   "cell_type": "code",
   "execution_count": null,
   "metadata": {
    "collapsed": true
   },
   "outputs": [],
   "source": [
    "4123456789123456\n",
    "5123-4567-8912-3456\n",
    "61234-567-8912-3456\n",
    "4123356789123456\n",
    "5133-3367-8912-3456\n",
    "5123 - 3567 - 8912 - 3456"
   ]
  },
  {
   "cell_type": "code",
   "execution_count": null,
   "metadata": {
    "collapsed": true
   },
   "outputs": [],
   "source": [
    "import re\n",
    "li = []\n",
    "for i in range(int(input())):\n",
    "    try:\n",
    "        f = input()\n",
    "        float(f)\n",
    "        if bool(re.search('.[0-9]+', f)) :\n",
    "            li.append(\"True\")\n",
    "        else : \n",
    "            li.append(\"False\")\n",
    "    except:\n",
    "        li.append(\"False\")\n",
    "for i in li:\n",
    "    print(i)"
   ]
  },
  {
   "cell_type": "markdown",
   "metadata": {},
   "source": [
    "### Re.start() & Re.end()"
   ]
  },
  {
   "cell_type": "code",
   "execution_count": 68,
   "metadata": {
    "collapsed": false
   },
   "outputs": [
    {
     "ename": "TypeError",
     "evalue": "'_sre.SRE_Match' object is not iterable",
     "output_type": "error",
     "traceback": [
      "\u001b[0;31m---------------------------------------------------------------------------\u001b[0m",
      "\u001b[0;31mTypeError\u001b[0m                                 Traceback (most recent call last)",
      "\u001b[0;32m<ipython-input-68-04d679b1df57>\u001b[0m in \u001b[0;36m<module>\u001b[0;34m()\u001b[0m\n\u001b[1;32m      1\u001b[0m \u001b[0;32mimport\u001b[0m \u001b[0mre\u001b[0m\u001b[0;34m\u001b[0m\u001b[0m\n\u001b[1;32m      2\u001b[0m \u001b[0mm\u001b[0m \u001b[0;34m=\u001b[0m \u001b[0mre\u001b[0m\u001b[0;34m.\u001b[0m\u001b[0msearch\u001b[0m\u001b[0;34m(\u001b[0m\u001b[0;34mr'(?=(aa))'\u001b[0m\u001b[0;34m,\u001b[0m\u001b[0;34m'aaadaa'\u001b[0m\u001b[0;34m)\u001b[0m\u001b[0;34m\u001b[0m\u001b[0m\n\u001b[0;32m----> 3\u001b[0;31m \u001b[0;32mfor\u001b[0m \u001b[0mi\u001b[0m \u001b[0;32min\u001b[0m \u001b[0mm\u001b[0m\u001b[0;34m:\u001b[0m\u001b[0;34m\u001b[0m\u001b[0m\n\u001b[0m\u001b[1;32m      4\u001b[0m     \u001b[0mm\u001b[0m\u001b[0;34m.\u001b[0m\u001b[0mend\u001b[0m\u001b[0;34m(\u001b[0m\u001b[0;34m)\u001b[0m\u001b[0;34m\u001b[0m\u001b[0m\n\u001b[1;32m      5\u001b[0m \u001b[0;34m\u001b[0m\u001b[0m\n",
      "\u001b[0;31mTypeError\u001b[0m: '_sre.SRE_Match' object is not iterable"
     ]
    }
   ],
   "source": [
    "import re\n",
    "\n",
    "for i in m:\n",
    "    m.end()\n",
    "    \n",
    "          \n",
    "\n",
    "\n",
    "\n"
   ]
  },
  {
   "cell_type": "markdown",
   "metadata": {},
   "source": [
    "### Re.findall() & Re.finditer()"
   ]
  },
  {
   "cell_type": "code",
   "execution_count": 3,
   "metadata": {
    "collapsed": false
   },
   "outputs": [
    {
     "name": "stdout",
     "output_type": "stream",
     "text": [
      "match a single character not present in the list below\n",
      "-1\n"
     ]
    }
   ],
   "source": [
    "import re\n",
    "from __future__ import print_function\n",
    "consonents = 'QWRTYPSDFGHJKLZXCVBNM'\n",
    "vowels = 'AEIOU'\n",
    "match = re.findall(r'(?<=['+consonents+'])(['+vowels+']{2,})(?=['+consonents+'])', input(), flags=re.I)\n",
    "\n",
    "if(len(match)) != 0 :\n",
    "    print(*match, sep='\\n')\n",
    "else : \n",
    "    print('-1')"
   ]
  },
  {
   "cell_type": "code",
   "execution_count": null,
   "metadata": {
    "collapsed": true
   },
   "outputs": [],
   "source": [
    "match = re.findall(r'(?<=['+consonants+'])(['+vowels+']{2,})(?=['+consonants+'])',raw_input(),flags = re.I)"
   ]
  },
  {
   "cell_type": "code",
   "execution_count": null,
   "metadata": {
    "collapsed": true
   },
   "outputs": [],
   "source": [
    "match a single character not present in the list below"
   ]
  },
  {
   "cell_type": "markdown",
   "metadata": {},
   "source": [
    "### Validating Roman Numerals"
   ]
  },
  {
   "cell_type": "code",
   "execution_count": 13,
   "metadata": {
    "collapsed": false
   },
   "outputs": [
    {
     "name": "stdout",
     "output_type": "stream",
     "text": [
      "#FFF\n",
      "None\n"
     ]
    }
   ],
   "source": [
    "import re\n",
    "regx = re.compile(r'([#]([a-fA-F0-9]{6}|[a-fA-F0-9]{3})(?=[\\W]))|({)|(})',re.I)\n",
    "IN = regx.match(input())\n",
    "print(IN)"
   ]
  },
  {
   "cell_type": "code",
   "execution_count": 15,
   "metadata": {
    "collapsed": false
   },
   "outputs": [
    {
     "name": "stdout",
     "output_type": "stream",
     "text": [
      "4\n",
      "3\n",
      "1\n",
      "1.3333333333333333\n"
     ]
    }
   ],
   "source": [
    "a = int(input())\n",
    "b = int(input())\n",
    "print(a//b)\n",
    "print(a/b)\n",
    "    "
   ]
  },
  {
   "cell_type": "code",
   "execution_count": 25,
   "metadata": {
    "collapsed": false
   },
   "outputs": [
    {
     "name": "stdout",
     "output_type": "stream",
     "text": [
      "6\n",
      "<feed xml:lang='en'>\n",
      " <title>HackerRank</title>\n",
      "<subtitle lang='en'>Programming challenges</subtitle>\n",
      "<link rel='alternate' type='text/html' href='http://hackerrank.com/'/>\n",
      "<updated>2013-12-25T12:00:00</updated>\n",
      "</feed>\n",
      "5\n"
     ]
    }
   ],
   "source": [
    "import xml.etree.ElementTree as etree\n",
    "numlines = int(input())\n",
    "XML = ''\n",
    "for _ in range(numlines):\n",
    "    XML += input()\n",
    "    \n",
    "root = etree.fromstring(XML)\n",
    "sum = 0\n",
    "for i in root.iter() : \n",
    "    sum = sum + (len(i.attrib))\n",
    "    \n",
    "print(sum)\n"
   ]
  },
  {
   "cell_type": "code",
   "execution_count": null,
   "metadata": {
    "collapsed": true
   },
   "outputs": [],
   "source": [
    "<feed xml:lang='en'>\n",
    "    <title>HackerRank</title>\n",
    "    <subtitle lang='en'>Programming challenges</subtitle>\n",
    "    <link rel='alternate' type='text/html' href='http://hackerrank.com/'/>\n",
    "    <updated>2013-12-25T12:00:00</updated>\n",
    "</feed>"
   ]
  },
  {
   "cell_type": "code",
   "execution_count": 26,
   "metadata": {
    "collapsed": true
   },
   "outputs": [],
   "source": [
    "import xml.etree.ElementTree as etree\n",
    "def get_attr_number(node):\n",
    "    # your code goes here\n",
    "    sum = 0\n",
    "    numlines = int(input())\n",
    "    XML = ''\n",
    "    for _ in range(numlines):\n",
    "        XML += input()\n",
    "    root = etree.fromstring(XML)\n",
    "    for i in root.iter() : \n",
    "        sum = sum + (len(i.attrib))\n",
    "    print(sum)"
   ]
  },
  {
   "cell_type": "code",
   "execution_count": 28,
   "metadata": {
    "collapsed": false
   },
   "outputs": [
    {
     "name": "stdout",
     "output_type": "stream",
     "text": [
      "6\n",
      "<feed xml:lang='en'>\n",
      "<title>HackerRank</title>\n",
      "<subtitle lang='en'>Programming challenges</subtitle>\n",
      "<link rel='alternate' type='text/html' href='http://hackerrank.com/'/>\n",
      "<updated>2013-12-25T12:00:00</updated>\n",
      "</feed>\n",
      "5\n"
     ]
    }
   ],
   "source": [
    "import xml.etree.ElementTree as etree\n",
    "numlines = int(input())\n",
    "XML = ''\n",
    "for _ in range(numlines):\n",
    "    XML += input()\n",
    "tree = etree.ElementTree(etree.fromstring(XML))\n",
    "root = tree.getroot()\n",
    "sum = 0\n",
    "for i in root.iter() : \n",
    "    sum = sum + (len(i.attrib))\n",
    "print( sum)"
   ]
  },
  {
   "cell_type": "code",
   "execution_count": null,
   "metadata": {
    "collapsed": true
   },
   "outputs": [],
   "source": [
    "<feed xml:lang='en'>\n",
    "    <title>HackerRank</title>\n",
    "    <subtitle lang='en'>Programming challenges</subtitle>\n",
    "    <link rel='alternate' type='text/html' href='http://hackerrank.com/'/>\n",
    "    <updated>2013-12-25T12:00:00</updated>\n",
    "</feed>"
   ]
  },
  {
   "cell_type": "markdown",
   "metadata": {},
   "source": [
    "### itertools.product() "
   ]
  },
  {
   "cell_type": "code",
   "execution_count": 30,
   "metadata": {
    "collapsed": false
   },
   "outputs": [
    {
     "name": "stdout",
     "output_type": "stream",
     "text": [
      "[(1, 3), (1, 4), (2, 3), (2, 4), (3, 3), (3, 4)]\n"
     ]
    }
   ],
   "source": [
    "from itertools import product\n",
    "print (list(product([1,2,3],[3,4])))\n"
   ]
  },
  {
   "cell_type": "code",
   "execution_count": 50,
   "metadata": {
    "collapsed": false
   },
   "outputs": [
    {
     "name": "stdout",
     "output_type": "stream",
     "text": [
      "1 2\n",
      "3 4\n",
      "(1, 3) (1, 4) (2, 3) (2, 4)\n"
     ]
    }
   ],
   "source": [
    "li1 = list(map(int, input().split()))\n",
    "li2 = list(map(int, input().split()))\n",
    "print (\" \".join(map(str, (product(li1, li2)))))\n",
    "\n",
    "\n"
   ]
  },
  {
   "cell_type": "code",
   "execution_count": 51,
   "metadata": {
    "collapsed": false
   },
   "outputs": [
    {
     "name": "stdout",
     "output_type": "stream",
     "text": [
      "1222311\n",
      "(1, 1) (3, 2) (1, 3) (2, 1) "
     ]
    }
   ],
   "source": [
    "from itertools import groupby\n",
    "a = input()\n",
    "for key, group in groupby(a):\n",
    "    print ((len(list(group)), int(key)), end=' ')\n",
    "    "
   ]
  },
  {
   "cell_type": "code",
   "execution_count": 59,
   "metadata": {
    "collapsed": false
   },
   "outputs": [
    {
     "name": "stdout",
     "output_type": "stream",
     "text": [
      "11223341\n",
      "(2, 1)(2, 2)(2, 3)(1, 4)(1, 1)"
     ]
    }
   ],
   "source": [
    "from itertools import groupby\n",
    "in_put = input()\n",
    "for k , s in groupby(in_put):\n",
    "    print((len(list(s)) , int(k)),end='')"
   ]
  },
  {
   "cell_type": "markdown",
   "metadata": {},
   "source": [
    "### collections.Counter()"
   ]
  },
  {
   "cell_type": "code",
   "execution_count": null,
   "metadata": {
    "collapsed": true
   },
   "outputs": [],
   "source": [
    "from collections import Counter\n",
    "n = int(input())\n",
    "s = Counter(map(int,input().split()))\n",
    "x = int(input())\n",
    "total = []\n",
    "for i in range(x):\n",
    "    a,b = map(int,input().split())\n",
    "    if s[a] > 0:\n",
    "\t\ttotal.append(b)\n",
    "\t\ts.subtract(Counter([a]))\n",
    "    else:\n",
    "        pass\n",
    "\n",
    "print (sum(total))"
   ]
  },
  {
   "cell_type": "code",
   "execution_count": null,
   "metadata": {
    "collapsed": true
   },
   "outputs": [],
   "source": [
    "import collections\n",
    "\n",
    "numShoes = int(raw_input())\n",
    "shoes = collections.Counter(map(int, raw_input().split()))\n",
    "numCust = int(raw_input())\n",
    "\n",
    "income = 0\n",
    "\n",
    "for i in range(numCust):\n",
    "    size, price = map(int, raw_input().split())\n",
    "    if shoes[size]: \n",
    "        income += price\n",
    "        shoes[size] -= 1\n",
    "\n",
    "print income"
   ]
  },
  {
   "cell_type": "code",
   "execution_count": 60,
   "metadata": {
    "collapsed": false
   },
   "outputs": [
    {
     "name": "stdout",
     "output_type": "stream",
     "text": [
      "10\n",
      "2 3 4 5 6 8 7 6 5 18\n",
      "6\n",
      "6 55\n",
      "6 45\n",
      "6 55\n",
      "4 40\n",
      "18 60\n",
      "10 50\n",
      "200\n"
     ]
    }
   ],
   "source": [
    "import collections \n",
    "\n",
    "numberOfShoes = int(input())\n",
    "\n",
    "shoeSizes = collections.Counter(map(int, input().split()))\n",
    "noOfCust = int(input())\n",
    "sum = 0 \n",
    "for i in range(noOfCust):\n",
    "    size , amount = map(int, input().split())\n",
    "    if(shoeSizes[size] > 0 ):\n",
    "        sum = sum + amount\n",
    "        shoeSizes[size] -= 1\n",
    "print(sum)"
   ]
  },
  {
   "cell_type": "markdown",
   "metadata": {},
   "source": [
    "### Calendar Module"
   ]
  },
  {
   "cell_type": "code",
   "execution_count": null,
   "metadata": {
    "collapsed": true
   },
   "outputs": [],
   "source": [
    "calendar.weekday(year, month, day)"
   ]
  },
  {
   "cell_type": "code",
   "execution_count": 71,
   "metadata": {
    "collapsed": false
   },
   "outputs": [
    {
     "name": "stdout",
     "output_type": "stream",
     "text": [
      "01 17 2017\n",
      "TUESDAY\n"
     ]
    }
   ],
   "source": [
    "import calendar \n",
    "dict = { 0 : 'Monday' , 1 : 'Tuesday' , 2: 'Wednesday' , 3:'Thursday' , 4:'Friday' , 5:'Saturday' , 6 :'Sunday'}\n",
    "m , d , y = map(int, input().split())\n",
    "week = calendar.weekday(y, m, d)\n",
    "print(str(dict.get(week).upper()))\n"
   ]
  },
  {
   "cell_type": "markdown",
   "metadata": {},
   "source": [
    "## Time Delta"
   ]
  },
  {
   "cell_type": "code",
   "execution_count": 72,
   "metadata": {
    "collapsed": false
   },
   "outputs": [
    {
     "data": {
      "text/plain": [
       "86400.0"
      ]
     },
     "execution_count": 72,
     "metadata": {},
     "output_type": "execute_result"
    }
   ],
   "source": [
    "import datetime as dt\n",
    "\n",
    "a = dt.datetime(2013,12,30,23,59,59)\n",
    "b = dt.datetime(2013,12,31,23,59,59)\n",
    "\n",
    "(b-a).total_seconds()"
   ]
  },
  {
   "cell_type": "markdown",
   "metadata": {},
   "source": [
    "### Exceptions"
   ]
  },
  {
   "cell_type": "code",
   "execution_count": 13,
   "metadata": {
    "collapsed": false
   },
   "outputs": [
    {
     "name": "stdout",
     "output_type": "stream",
     "text": [
      "3\n",
      "1 0\n"
     ]
    },
    {
     "ename": "AttributeError",
     "evalue": "'ZeroDivisionError' object has no attribute 'toString'",
     "output_type": "error",
     "traceback": [
      "\u001b[0;31m---------------------------------------------------------------------------\u001b[0m",
      "\u001b[0;31mZeroDivisionError\u001b[0m                         Traceback (most recent call last)",
      "\u001b[0;32m<ipython-input-13-593f9d554ab7>\u001b[0m in \u001b[0;36m<module>\u001b[0;34m()\u001b[0m\n\u001b[1;32m      5\u001b[0m         \u001b[0ma\u001b[0m\u001b[0;34m,\u001b[0m\u001b[0mb\u001b[0m  \u001b[0;34m=\u001b[0m \u001b[0mmap\u001b[0m\u001b[0;34m(\u001b[0m\u001b[0mint\u001b[0m\u001b[0;34m,\u001b[0m \u001b[0minput\u001b[0m\u001b[0;34m(\u001b[0m\u001b[0;34m)\u001b[0m\u001b[0;34m.\u001b[0m\u001b[0msplit\u001b[0m\u001b[0;34m(\u001b[0m\u001b[0;34m)\u001b[0m\u001b[0;34m)\u001b[0m\u001b[0;34m\u001b[0m\u001b[0m\n\u001b[0;32m----> 6\u001b[0;31m         \u001b[0mli\u001b[0m\u001b[0;34m.\u001b[0m\u001b[0mappend\u001b[0m\u001b[0;34m(\u001b[0m\u001b[0ma\u001b[0m\u001b[0;34m//\u001b[0m\u001b[0mb\u001b[0m\u001b[0;34m)\u001b[0m\u001b[0;34m\u001b[0m\u001b[0m\n\u001b[0m\u001b[1;32m      7\u001b[0m     \u001b[0;32mexcept\u001b[0m \u001b[0mZeroDivisionError\u001b[0m \u001b[0;32mas\u001b[0m \u001b[0me\u001b[0m\u001b[0;34m:\u001b[0m\u001b[0;34m\u001b[0m\u001b[0m\n",
      "\u001b[0;31mZeroDivisionError\u001b[0m: integer division or modulo by zero",
      "\nDuring handling of the above exception, another exception occurred:\n",
      "\u001b[0;31mAttributeError\u001b[0m                            Traceback (most recent call last)",
      "\u001b[0;32m<ipython-input-13-593f9d554ab7>\u001b[0m in \u001b[0;36m<module>\u001b[0;34m()\u001b[0m\n\u001b[1;32m      6\u001b[0m         \u001b[0mli\u001b[0m\u001b[0;34m.\u001b[0m\u001b[0mappend\u001b[0m\u001b[0;34m(\u001b[0m\u001b[0ma\u001b[0m\u001b[0;34m//\u001b[0m\u001b[0mb\u001b[0m\u001b[0;34m)\u001b[0m\u001b[0;34m\u001b[0m\u001b[0m\n\u001b[1;32m      7\u001b[0m     \u001b[0;32mexcept\u001b[0m \u001b[0mZeroDivisionError\u001b[0m \u001b[0;32mas\u001b[0m \u001b[0me\u001b[0m\u001b[0;34m:\u001b[0m\u001b[0;34m\u001b[0m\u001b[0m\n\u001b[0;32m----> 8\u001b[0;31m         \u001b[0mli\u001b[0m\u001b[0;34m.\u001b[0m\u001b[0mappend\u001b[0m\u001b[0;34m(\u001b[0m\u001b[0;34m\"Error Code:\"\u001b[0m \u001b[0;34m+\u001b[0m \u001b[0me\u001b[0m\u001b[0;34m.\u001b[0m\u001b[0mtoString\u001b[0m\u001b[0;34m(\u001b[0m\u001b[0;34m)\u001b[0m  \u001b[0;34m)\u001b[0m\u001b[0;34m\u001b[0m\u001b[0m\n\u001b[0m\u001b[1;32m      9\u001b[0m \u001b[0;34m\u001b[0m\u001b[0m\n\u001b[1;32m     10\u001b[0m     \u001b[0;32mexcept\u001b[0m \u001b[0mValueError\u001b[0m \u001b[0;32mas\u001b[0m \u001b[0mv\u001b[0m \u001b[0;34m:\u001b[0m\u001b[0;34m\u001b[0m\u001b[0m\n",
      "\u001b[0;31mAttributeError\u001b[0m: 'ZeroDivisionError' object has no attribute 'toString'"
     ]
    }
   ],
   "source": [
    "li = []\n",
    "for i in range(int(input())):\n",
    "\n",
    "    try:     \n",
    "        a,b  = map(int, input().split())\n",
    "        li.append(a//b)\n",
    "    except ZeroDivisionError as e:\n",
    "        li.append(\"Error Code:\" + e.toString()  )\n",
    "        \n",
    "    except ValueError as v : \n",
    "        li.append(\"Error Code:\" +  str(v))\n",
    "        \n",
    "for i in li:\n",
    "    print(i)\n"
   ]
  },
  {
   "cell_type": "markdown",
   "metadata": {
    "collapsed": true
   },
   "source": []
  },
  {
   "cell_type": "code",
   "execution_count": 15,
   "metadata": {
    "collapsed": false
   },
   "outputs": [
    {
     "name": "stdout",
     "output_type": "stream",
     "text": [
      "3\n",
      "10\n",
      "Error Code: not enough values to unpack (expected 2, got 1)\n",
      "2 0\n",
      "Error Code: integer division or modulo by zero\n",
      "1$\n",
      "Error Code: invalid literal for int() with base 10: '1$'\n"
     ]
    }
   ],
   "source": [
    " li = []\n",
    "for i in range(int(input())):\n",
    "\n",
    "    try:     \n",
    "        a,b  = map(int, input().split())\n",
    "        print(a//b)\n",
    "    except (ZeroDivisionError,ValueError) as e:\n",
    "        print(\"Error Code:\",e)"
   ]
  },
  {
   "cell_type": "code",
   "execution_count": null,
   "metadata": {
    "collapsed": true
   },
   "outputs": [],
   "source": []
  },
  {
   "cell_type": "code",
   "execution_count": 39,
   "metadata": {
    "collapsed": false
   },
   "outputs": [
    {
     "name": "stdout",
     "output_type": "stream",
     "text": [
      "5 3\n",
      "91 92 83 89 90.5\n",
      "90 91 85 88 86\n",
      "89 90 78 93 80\n",
      "90.0\n",
      "91.0\n",
      "82.0\n",
      "90.0\n",
      "85.5\n"
     ]
    }
   ],
   "source": [
    "a,b  = map(int, input().split())\n",
    "li=[]\n",
    "tu = ()\n",
    "for i in range(b):\n",
    " \n",
    "   li.append(list(map(float, input().split())))\n",
    "\n",
    "tu = zip(*li)\n",
    "s =  [sum(tup) for tup in tu]\n",
    "for i in s:\n",
    "    print(i/b)"
   ]
  },
  {
   "cell_type": "code",
   "execution_count": null,
   "metadata": {
    "collapsed": true
   },
   "outputs": [],
   "source": [
    "A = [1,2,3]\n",
    "B = [6,5,4]\n",
    "C = [7,8,9]\n",
    "X = [A] + [B] + [C]\n",
    "y =  zip(*X)\n",
    "\n",
    "s =  [sum(tup) for tup in y]\n",
    "for i in s:\n",
    "    print(i)"
   ]
  },
  {
   "cell_type": "code",
   "execution_count": null,
   "metadata": {
    "collapsed": true
   },
   "outputs": [],
   "source": [
    "zip(*[list(map(float, input().split()))"
   ]
  },
  {
   "cell_type": "code",
   "execution_count": null,
   "metadata": {
    "collapsed": true
   },
   "outputs": [],
   "source": [
    "5 3\n",
    "89 90 78 93 80\n",
    "90 91 85 88 86  \n",
    "91 92 83 89 90.5"
   ]
  },
  {
   "cell_type": "code",
   "execution_count": 40,
   "metadata": {
    "collapsed": false
   },
   "outputs": [
    {
     "data": {
      "text/plain": [
       "14"
      ]
     },
     "execution_count": 40,
     "metadata": {},
     "output_type": "execute_result"
    }
   ],
   "source": [
    "eval(\"9 + 5\")"
   ]
  },
  {
   "cell_type": "code",
   "execution_count": 45,
   "metadata": {
    "collapsed": false
   },
   "outputs": [
    {
     "name": "stdout",
     "output_type": "stream",
     "text": [
      "print(2+4)\n",
      "6\n"
     ]
    }
   ],
   "source": [
    "x = input()\n",
    "eval(x)"
   ]
  },
  {
   "cell_type": "code",
   "execution_count": 80,
   "metadata": {
    "collapsed": false
   },
   "outputs": [
    {
     "name": "stdout",
     "output_type": "stream",
     "text": [
      "5 3 \n",
      "10 2 5 \n",
      "7 1 0\n",
      "9 9 9 \n",
      "1 23 12\n",
      "6 5 9 \n",
      "1\n",
      "\n",
      "7 1 0 \n",
      "10 2 5 \n",
      "6 5 9 \n",
      "9 9 9 \n",
      "1 23 12 "
     ]
    }
   ],
   "source": [
    "a,b  = map(int, input().split())\n",
    "li = []\n",
    "for i in  range (a):\n",
    "    li.append(list(map(int , input().split())))\n",
    "k = int(input())\n",
    "\n",
    "li.sort(key=lambda x: x[k])\n",
    "for i in li : \n",
    "    print()\n",
    "    for x in i :\n",
    "        print(x , end=\" \")\n",
    "    \n"
   ]
  },
  {
   "cell_type": "markdown",
   "metadata": {},
   "source": []
  },
  {
   "cell_type": "markdown",
   "metadata": {},
   "source": [
    "### Any or All"
   ]
  },
  {
   "cell_type": "code",
   "execution_count": 102,
   "metadata": {
    "collapsed": false
   },
   "outputs": [
    {
     "name": "stdout",
     "output_type": "stream",
     "text": [
      "10\n",
      "1 2 3 4 5 6 7 8 9 10\n",
      "False\n"
     ]
    }
   ],
   "source": [
    "num = input()\n",
    "s = num[::-1]\n",
    "li = list(map(int, input().split()))\n",
    "if(( all(i >= 0 for i in li)) and (int(s) == int(num))) : \n",
    "    print('True')\n",
    "else :\n",
    "    print ('False' )\n"
   ]
  },
  {
   "cell_type": "code",
   "execution_count": 85,
   "metadata": {
    "collapsed": false
   },
   "outputs": [
    {
     "name": "stdout",
     "output_type": "stream",
     "text": [
      "202\n",
      "rev of original no = 202\n",
      "no's are equal\n"
     ]
    }
   ],
   "source": [
    "original = input()   #original = number entered by user\n",
    "rev = original[::-1]     #rev = reverse of original by useing scope resolution \n",
    "print ('rev of original no =',rev)\n",
    "if original == rev:\n",
    "    print( \"no's are equal\")\n",
    "else:\n",
    "    print (\"no's are not equal\")"
   ]
  },
  {
   "cell_type": "code",
   "execution_count": 115,
   "metadata": {
    "collapsed": false
   },
   "outputs": [
    {
     "name": "stdout",
     "output_type": "stream",
     "text": [
      "3 \n",
      "1 12 13\n",
      "True\n"
     ]
    }
   ],
   "source": [
    "num = input()\n",
    "\n",
    "def pal(li):\n",
    "    flag = False\n",
    "    for i in li:\n",
    "        s = i[::-1]\n",
    "        if(s== i):\n",
    "            flag = True\n",
    "    return flag    \n",
    "\n",
    "strli = list(input().split())\n",
    "intli = list(map(int , strli))\n",
    "print(( all(i >= 0 for i in intli)) and (pal(strli))) \n",
    "\n"
   ]
  },
  {
   "cell_type": "code",
   "execution_count": null,
   "metadata": {
    "collapsed": false
   },
   "outputs": [],
   "source": []
  },
  {
   "cell_type": "markdown",
   "metadata": {},
   "source": [
    "### ginortS"
   ]
  },
  {
   "cell_type": "code",
   "execution_count": 118,
   "metadata": {
    "collapsed": false
   },
   "outputs": [
    {
     "name": "stdout",
     "output_type": "stream",
     "text": [
      "Sorting1234\n",
      "ginortS1324\n"
     ]
    }
   ],
   "source": [
    "\n",
    "str_in = input()\n",
    "s = sorted(str_in, key= lambda x:(x.isdigit() and int(x)%2 == 0 , x.isdigit(), x.isupper(), x.islower() ,x))\n",
    "\n",
    "print(*(s),sep = '')"
   ]
  },
  {
   "cell_type": "code",
   "execution_count": 136,
   "metadata": {
    "collapsed": false
   },
   "outputs": [
    {
     "name": "stdout",
     "output_type": "stream",
     "text": [
      "1+2j\n",
      "2.23606797749979\n"
     ]
    },
    {
     "data": {
      "text/plain": [
       "1.1071487177940904"
      ]
     },
     "execution_count": 136,
     "metadata": {},
     "output_type": "execute_result"
    }
   ],
   "source": [
    "import cmath\n",
    "re  = complex(input())\n",
    "print(abs(re))\n",
    "print(cmath.phase(complex(re.real, re.imag)))\n",
    "\n",
    "\n"
   ]
  },
  {
   "cell_type": "code",
   "execution_count": 144,
   "metadata": {
    "collapsed": false
   },
   "outputs": [
    {
     "name": "stdout",
     "output_type": "stream",
     "text": [
      "177\n",
      "10\n",
      "17\n",
      "7\n",
      "(17, 7)\n"
     ]
    }
   ],
   "source": [
    "N,M = int(input()) , int(input())\n",
    "print(N//M)\n",
    "print(N%M)\n",
    "print (divmod(N,M))"
   ]
  },
  {
   "cell_type": "code",
   "execution_count": 140,
   "metadata": {
    "collapsed": false
   },
   "outputs": [
    {
     "name": "stdout",
     "output_type": "stream",
     "text": [
      "17\n"
     ]
    }
   ],
   "source": [
    "print(177//10)"
   ]
  },
  {
   "cell_type": "code",
   "execution_count": 141,
   "metadata": {
    "collapsed": false
   },
   "outputs": [
    {
     "name": "stdout",
     "output_type": "stream",
     "text": [
      "7\n"
     ]
    }
   ],
   "source": [
    "print(177%10)"
   ]
  },
  {
   "cell_type": "code",
   "execution_count": 146,
   "metadata": {
    "collapsed": false
   },
   "outputs": [
    {
     "name": "stdout",
     "output_type": "stream",
     "text": [
      "3 \n",
      "4\n",
      "5 \n",
      "81\n",
      "1\n"
     ]
    }
   ],
   "source": [
    "a  = int(input())\n",
    "b = int(input())\n",
    "m =  int(input())\n",
    "print(pow(a,b))\n",
    "print(pow(a,b,m))"
   ]
  },
  {
   "cell_type": "code",
   "execution_count": null,
   "metadata": {
    "collapsed": true
   },
   "outputs": [],
   "source": [
    "9\n",
    "29\n",
    "7\n",
    "27"
   ]
  },
  {
   "cell_type": "code",
   "execution_count": 147,
   "metadata": {
    "collapsed": false
   },
   "outputs": [
    {
     "name": "stdout",
     "output_type": "stream",
     "text": [
      "9\n",
      "29\n",
      "7\n",
      "27\n",
      "4710194409608608369201743232\n"
     ]
    }
   ],
   "source": [
    "a  = int(input())\n",
    "b = int(input())\n",
    "c  = int(input())\n",
    "d = int(input())\n",
    "print(pow(a,b ) + pow(c,d))"
   ]
  },
  {
   "cell_type": "code",
   "execution_count": 4,
   "metadata": {
    "collapsed": false
   },
   "outputs": [
    {
     "name": "stdout",
     "output_type": "stream",
     "text": [
      "5\n",
      "1\n",
      "22\n",
      "333\n",
      "4444\n"
     ]
    }
   ],
   "source": [
    "for i in range(1,int(input())): #More than 2 lines will result in 0 score. Do not leave a blank line also\n",
    "    print (str(i)*(i))\n",
    "    "
   ]
  },
  {
   "cell_type": "code",
   "execution_count": 49,
   "metadata": {
    "collapsed": false
   },
   "outputs": [
    {
     "name": "stdout",
     "output_type": "stream",
     "text": [
      "HACK 2\n",
      "A\n",
      "C\n",
      "H\n",
      "K\n",
      "AC\n",
      "AK\n",
      "CK\n",
      "HA\n",
      "HC\n",
      "HK\n"
     ]
    }
   ],
   "source": [
    "from itertools import combinations\n",
    "st_li, m =  input().split()\n",
    "j = int(m)\n",
    "for k in range(j) :\n",
    "    li =list(sorted(combinations(st_li,k+1)))\n",
    "    for x in li:\n",
    "        print (\"\".join(x))\n",
    "\n",
    "\n"
   ]
  },
  {
   "cell_type": "code",
   "execution_count": null,
   "metadata": {
    "collapsed": false
   },
   "outputs": [],
   "source": [
    "\n"
   ]
  },
  {
   "cell_type": "code",
   "execution_count": null,
   "metadata": {
    "collapsed": false
   },
   "outputs": [],
   "source": []
  },
  {
   "cell_type": "code",
   "execution_count": null,
   "metadata": {
    "collapsed": true
   },
   "outputs": [],
   "source": []
  }
 ],
 "metadata": {
  "anaconda-cloud": {},
  "kernelspec": {
   "display_name": "Python [default]",
   "language": "python",
   "name": "python3"
  },
  "language_info": {
   "codemirror_mode": {
    "name": "ipython",
    "version": 3
   },
   "file_extension": ".py",
   "mimetype": "text/x-python",
   "name": "python",
   "nbconvert_exporter": "python",
   "pygments_lexer": "ipython3",
   "version": "3.5.2"
  }
 },
 "nbformat": 4,
 "nbformat_minor": 1
}
