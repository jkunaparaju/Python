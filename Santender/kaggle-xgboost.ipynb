{
 "cells": [
  {
   "cell_type": "code",
   "execution_count": 1,
   "metadata": {
    "collapsed": false
   },
   "outputs": [],
   "source": [
    "import numpy as np \n",
    "import pandas as pd \n",
    "from subprocess import check_output"
   ]
  },
  {
   "cell_type": "code",
   "execution_count": 3,
   "metadata": {
    "collapsed": false
   },
   "outputs": [],
   "source": [
    "from sklearn.grid_search import GridSearchCV\n",
    "import sklearn\n",
    "import xgboost as xgb\n",
    "import matplotlib.pyplot as plt"
   ]
  },
  {
   "cell_type": "code",
   "execution_count": 4,
   "metadata": {
    "collapsed": true
   },
   "outputs": [],
   "source": [
    "train = pd.read_csv(\"/Users/jyothi/Desktop/santender/train.csv\") # the train dataset is now a Pandas DataFrame\n",
    "test = pd.read_csv(\"/Users/jyothi/Desktop/santender/test.csv\")"
   ]
  },
  {
   "cell_type": "code",
   "execution_count": 47,
   "metadata": {
    "collapsed": false
   },
   "outputs": [
    {
     "data": {
      "text/plain": [
       "(76020, 306)"
      ]
     },
     "execution_count": 47,
     "metadata": {},
     "output_type": "execute_result"
    }
   ],
   "source": [
    "train.shape"
   ]
  },
  {
   "cell_type": "code",
   "execution_count": 5,
   "metadata": {
    "collapsed": false
   },
   "outputs": [
    {
     "data": {
      "text/plain": [
       "Index(['ID', 'var3', 'var15', 'imp_ent_var16_ult1', 'imp_op_var39_comer_ult1',\n",
       "       'imp_op_var39_comer_ult3', 'imp_op_var40_comer_ult1',\n",
       "       'imp_op_var40_comer_ult3', 'imp_op_var40_efect_ult1',\n",
       "       'imp_op_var40_efect_ult3',\n",
       "       ...\n",
       "       'saldo_medio_var33_hace2', 'saldo_medio_var33_hace3',\n",
       "       'saldo_medio_var33_ult1', 'saldo_medio_var33_ult3',\n",
       "       'saldo_medio_var44_hace2', 'saldo_medio_var44_hace3',\n",
       "       'saldo_medio_var44_ult1', 'saldo_medio_var44_ult3', 'var38', 'TARGET'],\n",
       "      dtype='object', length=371)"
      ]
     },
     "execution_count": 5,
     "metadata": {},
     "output_type": "execute_result"
    }
   ],
   "source": [
    "train.columns"
   ]
  },
  {
   "cell_type": "code",
   "execution_count": 7,
   "metadata": {
    "collapsed": false
   },
   "outputs": [],
   "source": [
    "# happy customers have TARGET==0, unhappy custormers have TARGET==1\n",
    "\n"
   ]
  },
  {
   "cell_type": "code",
   "execution_count": 8,
   "metadata": {
    "collapsed": false
   },
   "outputs": [],
   "source": [
    "# var3 is suspected to be the nationality of the customer"
   ]
  },
  {
   "cell_type": "code",
   "execution_count": 8,
   "metadata": {
    "collapsed": false
   },
   "outputs": [
    {
     "data": {
      "text/plain": [
       " 2         74165\n",
       " 8           138\n",
       "-999999      116\n",
       " 9           110\n",
       " 3           108\n",
       " 1           105\n",
       " 13           98\n",
       " 7            97\n",
       " 4            86\n",
       " 12           85\n",
       "Name: var3, dtype: int64"
      ]
     },
     "execution_count": 8,
     "metadata": {},
     "output_type": "execute_result"
    }
   ],
   "source": [
    "# Top-10 most common values\n",
    "train.var3.value_counts()[:10]"
   ]
  },
  {
   "cell_type": "code",
   "execution_count": 9,
   "metadata": {
    "collapsed": false
   },
   "outputs": [
    {
     "data": {
      "text/plain": [
       "(116, 371)"
      ]
     },
     "execution_count": 9,
     "metadata": {},
     "output_type": "execute_result"
    }
   ],
   "source": [
    "# 116 values in column var3 are -999999\n",
    "\n",
    "train.loc[train.var3==-999999].shape"
   ]
  },
  {
   "cell_type": "code",
   "execution_count": null,
   "metadata": {
    "collapsed": true
   },
   "outputs": [],
   "source": [
    "X = train.iloc[:,:-1]\n",
    "y = train.TARGET\n",
    "\n",
    "X['n0'] = (X==0).sum(axis=1)\n",
    "train['n0'] = X['n0']"
   ]
  },
  {
   "cell_type": "code",
   "execution_count": 10,
   "metadata": {
    "collapsed": false
   },
   "outputs": [],
   "source": [
    "# Seperate out predictors and target from the training data set\n",
    "# Remove the ID field from the test dataset and save it.\n",
    "# Drop the ID field from the training set\n",
    "train_y = train['TARGET']\n",
    "train.drop(['ID', 'TARGET'], axis=1, inplace=True)\n",
    "train_x = train\n",
    "test_id = test['ID']\n",
    "del test['ID']"
   ]
  },
  {
   "cell_type": "code",
   "execution_count": 11,
   "metadata": {
    "collapsed": false
   },
   "outputs": [],
   "source": [
    "# Fixing the outliers in column 'var3'\n",
    "train_x['var3'].replace(-999999,0, inplace=True)\n",
    "test['var3'].replace(-999999,0, inplace=True)"
   ]
  },
  {
   "cell_type": "code",
   "execution_count": 12,
   "metadata": {
    "collapsed": false
   },
   "outputs": [],
   "source": [
    "# Remove all the columns which have constant values. \n",
    "# These columns have zero std deviation.\n",
    "rm_col=[] \n",
    "for col in train_x.columns:\n",
    "    if train_x[col].std()==0:\n",
    "        rm_col.append(col)\n",
    "\n",
    "train_x.drop(rm_col, axis=1, inplace=True)\n",
    "test.drop(rm_col, axis=1, inplace=True)"
   ]
  },
  {
   "cell_type": "code",
   "execution_count": 13,
   "metadata": {
    "collapsed": false
   },
   "outputs": [],
   "source": [
    "# Remove the duplicate columns. \n",
    "# Here we have columns with different name but exactly same values for each rows\n",
    "\n",
    "dups_col = []\n",
    "for ii in range(len(train_x.columns)-1):\n",
    "    for jj in range(ii+1,len(train_x.columns)):\n",
    "        col1=train_x.columns[ii]\n",
    "        col2=train_x.columns[jj]\n",
    "        # take the columns as arrays adn then compare the values.\n",
    "        if np.array_equal(train_x[col1].values, train_x[col2].values) and not col2 in dups_col:\n",
    "            dups_col.append(col2)\n",
    "\n",
    "train_x.drop(dups_col, axis=1, inplace=True)\n",
    "test.drop(dups_col, axis=1, inplace=True)"
   ]
  },
  {
   "cell_type": "code",
   "execution_count": 14,
   "metadata": {
    "collapsed": false
   },
   "outputs": [],
   "source": [
    "import numpy as np \n",
    "import pandas as pd \n",
    "import matplotlib\n",
    "import matplotlib.pyplot as plt\n",
    "from sklearn import cross_validation\n",
    "import sklearn\n",
    "from sklearn.metrics import roc_auc_score\n",
    "X_train, X_test, y_train , y_test =  cross_validation.train_test_split(train_x, train_y , random_state=1301,  train_size=.8)"
   ]
  },
  {
   "cell_type": "code",
   "execution_count": 15,
   "metadata": {
    "collapsed": false
   },
   "outputs": [
    {
     "data": {
      "text/plain": [
       "XGBClassifier(base_score=0.5, colsample_bylevel=1, colsample_bytree=0.8,\n",
       "       gamma=0, learning_rate=0.1, max_delta_step=0, max_depth=5,\n",
       "       min_child_weight=1, missing=None, n_estimators=100, nthread=4,\n",
       "       objective='binary:logistic', reg_alpha=0, reg_lambda=1,\n",
       "       scale_pos_weight=1, seed=10, silent=True, subsample=0.8)"
      ]
     },
     "execution_count": 15,
     "metadata": {},
     "output_type": "execute_result"
    }
   ],
   "source": [
    "\n",
    "xgb_clf = xgb.XGBClassifier(learning_rate=0.1, n_estimators=100, max_depth=5, min_child_weight=1,\n",
    "                           gamma=0, subsample=0.8, colsample_bytree=0.8, objective='binary:logistic',\n",
    "                           nthread=4,seed=10)\n",
    "\n",
    "# Learn the model with training data\n",
    "xgb_clf.fit(X_train,y_train)"
   ]
  },
  {
   "cell_type": "code",
   "execution_count": 16,
   "metadata": {
    "collapsed": false
   },
   "outputs": [
    {
     "name": "stdout",
     "output_type": "stream",
     "text": [
      "[0]\tvalidation_0-auc:0.807282\tvalidation_1-auc:0.813619\n",
      "Multiple eval metrics have been passed: 'validation_1-auc' will be used for early stopping.\n",
      "\n",
      "Will train until validation_1-auc hasn't improved in 50 rounds.\n",
      "[1]\tvalidation_0-auc:0.820429\tvalidation_1-auc:0.819487\n",
      "[2]\tvalidation_0-auc:0.820915\tvalidation_1-auc:0.819262\n",
      "[3]\tvalidation_0-auc:0.82671\tvalidation_1-auc:0.823365\n",
      "[4]\tvalidation_0-auc:0.829552\tvalidation_1-auc:0.8281\n",
      "[5]\tvalidation_0-auc:0.831935\tvalidation_1-auc:0.828947\n",
      "[6]\tvalidation_0-auc:0.834794\tvalidation_1-auc:0.829387\n",
      "[7]\tvalidation_0-auc:0.835249\tvalidation_1-auc:0.828132\n",
      "[8]\tvalidation_0-auc:0.837134\tvalidation_1-auc:0.831281\n",
      "[9]\tvalidation_0-auc:0.838094\tvalidation_1-auc:0.832101\n",
      "[10]\tvalidation_0-auc:0.839242\tvalidation_1-auc:0.83167\n",
      "[11]\tvalidation_0-auc:0.839418\tvalidation_1-auc:0.832874\n",
      "[12]\tvalidation_0-auc:0.840742\tvalidation_1-auc:0.832639\n",
      "[13]\tvalidation_0-auc:0.841407\tvalidation_1-auc:0.833586\n",
      "[14]\tvalidation_0-auc:0.843989\tvalidation_1-auc:0.835865\n",
      "[15]\tvalidation_0-auc:0.844696\tvalidation_1-auc:0.835575\n",
      "[16]\tvalidation_0-auc:0.846379\tvalidation_1-auc:0.836998\n",
      "[17]\tvalidation_0-auc:0.847658\tvalidation_1-auc:0.837814\n",
      "[18]\tvalidation_0-auc:0.84921\tvalidation_1-auc:0.83873\n",
      "[19]\tvalidation_0-auc:0.850228\tvalidation_1-auc:0.839842\n",
      "[20]\tvalidation_0-auc:0.850919\tvalidation_1-auc:0.840498\n",
      "[21]\tvalidation_0-auc:0.851726\tvalidation_1-auc:0.840705\n",
      "[22]\tvalidation_0-auc:0.852162\tvalidation_1-auc:0.840578\n",
      "[23]\tvalidation_0-auc:0.852787\tvalidation_1-auc:0.841578\n",
      "[24]\tvalidation_0-auc:0.853807\tvalidation_1-auc:0.841576\n",
      "[25]\tvalidation_0-auc:0.854735\tvalidation_1-auc:0.842208\n",
      "[26]\tvalidation_0-auc:0.85509\tvalidation_1-auc:0.843193\n",
      "[27]\tvalidation_0-auc:0.856033\tvalidation_1-auc:0.843572\n",
      "[28]\tvalidation_0-auc:0.856498\tvalidation_1-auc:0.844038\n",
      "[29]\tvalidation_0-auc:0.856966\tvalidation_1-auc:0.844671\n",
      "[30]\tvalidation_0-auc:0.857621\tvalidation_1-auc:0.844906\n",
      "[31]\tvalidation_0-auc:0.858288\tvalidation_1-auc:0.845298\n",
      "[32]\tvalidation_0-auc:0.858753\tvalidation_1-auc:0.845207\n",
      "[33]\tvalidation_0-auc:0.859332\tvalidation_1-auc:0.845678\n",
      "[34]\tvalidation_0-auc:0.859727\tvalidation_1-auc:0.845531\n",
      "[35]\tvalidation_0-auc:0.860435\tvalidation_1-auc:0.845942\n",
      "[36]\tvalidation_0-auc:0.860837\tvalidation_1-auc:0.846051\n",
      "[37]\tvalidation_0-auc:0.861522\tvalidation_1-auc:0.846568\n",
      "[38]\tvalidation_0-auc:0.862041\tvalidation_1-auc:0.84629\n",
      "[39]\tvalidation_0-auc:0.862417\tvalidation_1-auc:0.846162\n",
      "[40]\tvalidation_0-auc:0.863036\tvalidation_1-auc:0.84601\n",
      "[41]\tvalidation_0-auc:0.86373\tvalidation_1-auc:0.846414\n",
      "[42]\tvalidation_0-auc:0.864088\tvalidation_1-auc:0.846308\n",
      "[43]\tvalidation_0-auc:0.864461\tvalidation_1-auc:0.846407\n",
      "[44]\tvalidation_0-auc:0.864929\tvalidation_1-auc:0.84663\n",
      "[45]\tvalidation_0-auc:0.865738\tvalidation_1-auc:0.846708\n",
      "[46]\tvalidation_0-auc:0.866319\tvalidation_1-auc:0.846875\n",
      "[47]\tvalidation_0-auc:0.866671\tvalidation_1-auc:0.846781\n",
      "[48]\tvalidation_0-auc:0.867113\tvalidation_1-auc:0.847121\n",
      "[49]\tvalidation_0-auc:0.86782\tvalidation_1-auc:0.847009\n",
      "[50]\tvalidation_0-auc:0.868271\tvalidation_1-auc:0.847239\n",
      "[51]\tvalidation_0-auc:0.86898\tvalidation_1-auc:0.84723\n",
      "[52]\tvalidation_0-auc:0.869307\tvalidation_1-auc:0.847215\n",
      "[53]\tvalidation_0-auc:0.869917\tvalidation_1-auc:0.847607\n",
      "[54]\tvalidation_0-auc:0.870216\tvalidation_1-auc:0.847769\n",
      "[55]\tvalidation_0-auc:0.870856\tvalidation_1-auc:0.847804\n",
      "[56]\tvalidation_0-auc:0.871417\tvalidation_1-auc:0.847478\n",
      "[57]\tvalidation_0-auc:0.87197\tvalidation_1-auc:0.847598\n",
      "[58]\tvalidation_0-auc:0.872145\tvalidation_1-auc:0.847791\n",
      "[59]\tvalidation_0-auc:0.872332\tvalidation_1-auc:0.847724\n",
      "[60]\tvalidation_0-auc:0.872905\tvalidation_1-auc:0.847488\n",
      "[61]\tvalidation_0-auc:0.873382\tvalidation_1-auc:0.847522\n",
      "[62]\tvalidation_0-auc:0.873663\tvalidation_1-auc:0.847535\n",
      "[63]\tvalidation_0-auc:0.873913\tvalidation_1-auc:0.84759\n",
      "[64]\tvalidation_0-auc:0.874308\tvalidation_1-auc:0.84763\n",
      "[65]\tvalidation_0-auc:0.874657\tvalidation_1-auc:0.847783\n",
      "[66]\tvalidation_0-auc:0.875297\tvalidation_1-auc:0.847738\n",
      "[67]\tvalidation_0-auc:0.875604\tvalidation_1-auc:0.847806\n",
      "[68]\tvalidation_0-auc:0.876194\tvalidation_1-auc:0.848062\n",
      "[69]\tvalidation_0-auc:0.876665\tvalidation_1-auc:0.84807\n",
      "[70]\tvalidation_0-auc:0.876918\tvalidation_1-auc:0.847971\n",
      "[71]\tvalidation_0-auc:0.876939\tvalidation_1-auc:0.84794\n",
      "[72]\tvalidation_0-auc:0.877134\tvalidation_1-auc:0.847929\n",
      "[73]\tvalidation_0-auc:0.877408\tvalidation_1-auc:0.847883\n",
      "[74]\tvalidation_0-auc:0.878242\tvalidation_1-auc:0.847832\n",
      "[75]\tvalidation_0-auc:0.879001\tvalidation_1-auc:0.847794\n",
      "[76]\tvalidation_0-auc:0.87909\tvalidation_1-auc:0.847812\n",
      "[77]\tvalidation_0-auc:0.879457\tvalidation_1-auc:0.847562\n",
      "[78]\tvalidation_0-auc:0.880251\tvalidation_1-auc:0.848039\n",
      "[79]\tvalidation_0-auc:0.880705\tvalidation_1-auc:0.848094\n",
      "[80]\tvalidation_0-auc:0.880934\tvalidation_1-auc:0.848209\n",
      "[81]\tvalidation_0-auc:0.881269\tvalidation_1-auc:0.848195\n",
      "[82]\tvalidation_0-auc:0.881589\tvalidation_1-auc:0.848126\n",
      "[83]\tvalidation_0-auc:0.881922\tvalidation_1-auc:0.848357\n",
      "[84]\tvalidation_0-auc:0.882401\tvalidation_1-auc:0.848296\n",
      "[85]\tvalidation_0-auc:0.88245\tvalidation_1-auc:0.848281\n",
      "[86]\tvalidation_0-auc:0.882851\tvalidation_1-auc:0.848104\n",
      "[87]\tvalidation_0-auc:0.883093\tvalidation_1-auc:0.848181\n",
      "[88]\tvalidation_0-auc:0.883529\tvalidation_1-auc:0.847972\n",
      "[89]\tvalidation_0-auc:0.883754\tvalidation_1-auc:0.84799\n",
      "[90]\tvalidation_0-auc:0.884127\tvalidation_1-auc:0.847936\n",
      "[91]\tvalidation_0-auc:0.884348\tvalidation_1-auc:0.847955\n",
      "[92]\tvalidation_0-auc:0.884405\tvalidation_1-auc:0.84797\n",
      "[93]\tvalidation_0-auc:0.884619\tvalidation_1-auc:0.848041\n",
      "[94]\tvalidation_0-auc:0.885029\tvalidation_1-auc:0.848168\n",
      "[95]\tvalidation_0-auc:0.885612\tvalidation_1-auc:0.848132\n",
      "[96]\tvalidation_0-auc:0.885921\tvalidation_1-auc:0.847956\n",
      "[97]\tvalidation_0-auc:0.886185\tvalidation_1-auc:0.84802\n",
      "[98]\tvalidation_0-auc:0.886543\tvalidation_1-auc:0.848294\n",
      "[99]\tvalidation_0-auc:0.886812\tvalidation_1-auc:0.84841\n"
     ]
    },
    {
     "data": {
      "text/plain": [
       "XGBClassifier(base_score=0.5, colsample_bylevel=1, colsample_bytree=0.8,\n",
       "       gamma=0, learning_rate=0.1, max_delta_step=0, max_depth=5,\n",
       "       min_child_weight=1, missing=None, n_estimators=100, nthread=4,\n",
       "       objective='binary:logistic', reg_alpha=0, reg_lambda=1,\n",
       "       scale_pos_weight=1, seed=10, silent=True, subsample=0.8)"
      ]
     },
     "execution_count": 16,
     "metadata": {},
     "output_type": "execute_result"
    }
   ],
   "source": [
    "#To find AUC \n",
    "xgb_clf.fit(X_train, y_train, early_stopping_rounds=50, eval_metric =\"auc\", eval_set=[(X_train, y_train), (X_test, y_test)])"
   ]
  },
  {
   "cell_type": "code",
   "execution_count": 17,
   "metadata": {
    "collapsed": false
   },
   "outputs": [
    {
     "name": "stdout",
     "output_type": "stream",
     "text": [
      "Overall AUC: 0.879216647369\n"
     ]
    }
   ],
   "source": [
    "print('Overall AUC:', roc_auc_score(train_y, xgb_clf.predict_proba(train_x, ntree_limit=xgb_clf.best_iteration)[:,1]))"
   ]
  },
  {
   "cell_type": "code",
   "execution_count": 18,
   "metadata": {
    "collapsed": true
   },
   "outputs": [],
   "source": [
    "from sklearn.metrics import roc_curve, auc\n",
    "import matplotlib.pyplot as plt\n",
    "import random"
   ]
  },
  {
   "cell_type": "code",
   "execution_count": 19,
   "metadata": {
    "collapsed": false
   },
   "outputs": [],
   "source": [
    "false_positive_rate, true_positive_rate, thresholds = roc_curve(train_y, xgb_clf.predict_proba(train_x, ntree_limit=xgb_clf.best_iteration)[:,1])\n",
    "roc_auc = auc(false_positive_rate, true_positive_rate)"
   ]
  },
  {
   "cell_type": "code",
   "execution_count": 20,
   "metadata": {
    "collapsed": false
   },
   "outputs": [
    {
     "data": {
      "image/png": "[encoded data removed]",
      "text/plain": [
       "<matplotlib.figure.Figure at 0x10475e978>"
      ]
     },
     "metadata": {},
     "output_type": "display_data"
    }
   ],
   "source": [
    "plt.title('Receiver Operating Characteristic')\n",
    "plt.plot(false_positive_rate, true_positive_rate, 'b',\n",
    "label='AUC = %0.2f'% roc_auc)\n",
    "plt.legend(loc='lower right')\n",
    "plt.plot([0,1],[0,1],'r--')\n",
    "plt.xlim([-0.1,1.2])\n",
    "plt.ylim([-0.1,1.2])\n",
    "plt.ylabel('True Positive Rate')\n",
    "plt.xlabel('False Positive Rate')\n",
    "plt.show()"
   ]
  },
  {
   "cell_type": "code",
   "execution_count": 21,
   "metadata": {
    "collapsed": false
   },
   "outputs": [
    {
     "data": {
      "image/png": "[encoded data removed]",
      "text/plain": [
       "<matplotlib.figure.Figure at 0x10bdef6a0>"
      ]
     },
     "metadata": {},
     "output_type": "display_data"
    }
   ],
   "source": [
    "imp_feat_xgb=pd.Series(xgb_clf.feature_importances_, index=X_train.columns).sort_values(ascending=False)\n",
    "imp_feat_xgb[:50].plot(kind='bar',title='Top 50 Important features as per XGBoost', figsize=(12,8))\n",
    "plt.ylabel('Feature Importance Score')\n",
    "plt.subplots_adjust(bottom=0.25)\n",
    "plt.savefig('FeatureImportance.png')\n",
    "plt.show()"
   ]
  },
  {
   "cell_type": "code",
   "execution_count": 22,
   "metadata": {
    "collapsed": true
   },
   "outputs": [],
   "source": [
    "# Save indexes of the important features in descending order of their importance\n",
    "indices = np.argsort(xgb_clf.feature_importances_)[::-1]\n",
    "select_feat =[str(s) for s in X_train.columns[indices][:50]]\n",
    "train_x_sub = X_train[select_feat]\n",
    "test_sub = X_test[select_feat]"
   ]
  },
  {
   "cell_type": "code",
   "execution_count": 25,
   "metadata": {
    "collapsed": false
   },
   "outputs": [
    {
     "data": {
      "text/plain": [
       "(15204,)"
      ]
     },
     "execution_count": 25,
     "metadata": {},
     "output_type": "execute_result"
    }
   ],
   "source": [
    "y_test.shape"
   ]
  },
  {
   "cell_type": "code",
   "execution_count": 118,
   "metadata": {
    "collapsed": false
   },
   "outputs": [
    {
     "data": {
      "text/plain": [
       "(45612,)"
      ]
     },
     "execution_count": 118,
     "metadata": {},
     "output_type": "execute_result"
    }
   ],
   "source": [
    "y_train.shape"
   ]
  },
  {
   "cell_type": "code",
   "execution_count": 23,
   "metadata": {
    "collapsed": false
   },
   "outputs": [
    {
     "data": {
      "text/html": [
       "<div>\n",
       "<table border=\"1\" class=\"dataframe\">\n",
       "  <thead>\n",
       "    <tr style=\"text-align: right;\">\n",
       "      <th></th>\n",
       "      <th>var38</th>\n",
       "      <th>var15</th>\n",
       "      <th>saldo_var30</th>\n",
       "      <th>saldo_medio_var5_ult3</th>\n",
       "      <th>saldo_medio_var5_hace3</th>\n",
       "      <th>saldo_medio_var5_hace2</th>\n",
       "      <th>num_var22_ult3</th>\n",
       "      <th>num_var45_hace3</th>\n",
       "      <th>num_var22_hace3</th>\n",
       "      <th>saldo_medio_var5_ult1</th>\n",
       "      <th>...</th>\n",
       "      <th>num_ent_var16_ult1</th>\n",
       "      <th>num_var43_recib_ult1</th>\n",
       "      <th>saldo_medio_var13_corto_hace2</th>\n",
       "      <th>saldo_medio_var8_ult1</th>\n",
       "      <th>saldo_medio_var8_hace2</th>\n",
       "      <th>num_op_var39_hace2</th>\n",
       "      <th>num_var4</th>\n",
       "      <th>saldo_var8</th>\n",
       "      <th>imp_op_var39_efect_ult1</th>\n",
       "      <th>imp_sal_var16_ult1</th>\n",
       "    </tr>\n",
       "  </thead>\n",
       "  <tbody>\n",
       "    <tr>\n",
       "      <th>1019</th>\n",
       "      <td>48767.490000</td>\n",
       "      <td>23</td>\n",
       "      <td>3.00</td>\n",
       "      <td>3.00</td>\n",
       "      <td>0.00</td>\n",
       "      <td>3.00</td>\n",
       "      <td>0</td>\n",
       "      <td>0</td>\n",
       "      <td>0</td>\n",
       "      <td>3.0</td>\n",
       "      <td>...</td>\n",
       "      <td>0</td>\n",
       "      <td>0</td>\n",
       "      <td>0.0</td>\n",
       "      <td>0.00</td>\n",
       "      <td>0.00</td>\n",
       "      <td>0</td>\n",
       "      <td>1</td>\n",
       "      <td>0.00</td>\n",
       "      <td>0.0</td>\n",
       "      <td>0.0</td>\n",
       "    </tr>\n",
       "    <tr>\n",
       "      <th>9086</th>\n",
       "      <td>117310.979016</td>\n",
       "      <td>25</td>\n",
       "      <td>3.00</td>\n",
       "      <td>2.88</td>\n",
       "      <td>2.61</td>\n",
       "      <td>3.00</td>\n",
       "      <td>0</td>\n",
       "      <td>0</td>\n",
       "      <td>0</td>\n",
       "      <td>3.0</td>\n",
       "      <td>...</td>\n",
       "      <td>0</td>\n",
       "      <td>0</td>\n",
       "      <td>0.0</td>\n",
       "      <td>0.00</td>\n",
       "      <td>0.00</td>\n",
       "      <td>0</td>\n",
       "      <td>1</td>\n",
       "      <td>0.00</td>\n",
       "      <td>0.0</td>\n",
       "      <td>0.0</td>\n",
       "    </tr>\n",
       "    <tr>\n",
       "      <th>18757</th>\n",
       "      <td>97660.320000</td>\n",
       "      <td>47</td>\n",
       "      <td>60.00</td>\n",
       "      <td>69.66</td>\n",
       "      <td>34.26</td>\n",
       "      <td>114.69</td>\n",
       "      <td>6</td>\n",
       "      <td>24</td>\n",
       "      <td>0</td>\n",
       "      <td>60.0</td>\n",
       "      <td>...</td>\n",
       "      <td>0</td>\n",
       "      <td>0</td>\n",
       "      <td>0.0</td>\n",
       "      <td>0.00</td>\n",
       "      <td>0.00</td>\n",
       "      <td>3</td>\n",
       "      <td>2</td>\n",
       "      <td>0.00</td>\n",
       "      <td>0.0</td>\n",
       "      <td>0.0</td>\n",
       "    </tr>\n",
       "    <tr>\n",
       "      <th>67548</th>\n",
       "      <td>203764.110000</td>\n",
       "      <td>23</td>\n",
       "      <td>0.00</td>\n",
       "      <td>0.00</td>\n",
       "      <td>0.00</td>\n",
       "      <td>0.00</td>\n",
       "      <td>0</td>\n",
       "      <td>0</td>\n",
       "      <td>0</td>\n",
       "      <td>0.0</td>\n",
       "      <td>...</td>\n",
       "      <td>0</td>\n",
       "      <td>0</td>\n",
       "      <td>0.0</td>\n",
       "      <td>0.00</td>\n",
       "      <td>0.00</td>\n",
       "      <td>0</td>\n",
       "      <td>0</td>\n",
       "      <td>0.00</td>\n",
       "      <td>0.0</td>\n",
       "      <td>0.0</td>\n",
       "    </tr>\n",
       "    <tr>\n",
       "      <th>30003</th>\n",
       "      <td>187564.770000</td>\n",
       "      <td>23</td>\n",
       "      <td>675.36</td>\n",
       "      <td>0.00</td>\n",
       "      <td>2.61</td>\n",
       "      <td>0.00</td>\n",
       "      <td>21</td>\n",
       "      <td>0</td>\n",
       "      <td>9</td>\n",
       "      <td>0.0</td>\n",
       "      <td>...</td>\n",
       "      <td>0</td>\n",
       "      <td>0</td>\n",
       "      <td>0.0</td>\n",
       "      <td>1247.55</td>\n",
       "      <td>510.51</td>\n",
       "      <td>0</td>\n",
       "      <td>3</td>\n",
       "      <td>675.36</td>\n",
       "      <td>600.0</td>\n",
       "      <td>0.0</td>\n",
       "    </tr>\n",
       "  </tbody>\n",
       "</table>\n",
       "<p>5 rows × 50 columns</p>\n",
       "</div>"
      ],
      "text/plain": [
       "               var38  var15  saldo_var30  saldo_medio_var5_ult3  \\\n",
       "1019    48767.490000     23         3.00                   3.00   \n",
       "9086   117310.979016     25         3.00                   2.88   \n",
       "18757   97660.320000     47        60.00                  69.66   \n",
       "67548  203764.110000     23         0.00                   0.00   \n",
       "30003  187564.770000     23       675.36                   0.00   \n",
       "\n",
       "       saldo_medio_var5_hace3  saldo_medio_var5_hace2  num_var22_ult3  \\\n",
       "1019                     0.00                    3.00               0   \n",
       "9086                     2.61                    3.00               0   \n",
       "18757                   34.26                  114.69               6   \n",
       "67548                    0.00                    0.00               0   \n",
       "30003                    2.61                    0.00              21   \n",
       "\n",
       "       num_var45_hace3  num_var22_hace3  saldo_medio_var5_ult1  \\\n",
       "1019                 0                0                    3.0   \n",
       "9086                 0                0                    3.0   \n",
       "18757               24                0                   60.0   \n",
       "67548                0                0                    0.0   \n",
       "30003                0                9                    0.0   \n",
       "\n",
       "              ...          num_ent_var16_ult1  num_var43_recib_ult1  \\\n",
       "1019          ...                           0                     0   \n",
       "9086          ...                           0                     0   \n",
       "18757         ...                           0                     0   \n",
       "67548         ...                           0                     0   \n",
       "30003         ...                           0                     0   \n",
       "\n",
       "       saldo_medio_var13_corto_hace2  saldo_medio_var8_ult1  \\\n",
       "1019                             0.0                   0.00   \n",
       "9086                             0.0                   0.00   \n",
       "18757                            0.0                   0.00   \n",
       "67548                            0.0                   0.00   \n",
       "30003                            0.0                1247.55   \n",
       "\n",
       "       saldo_medio_var8_hace2  num_op_var39_hace2  num_var4  saldo_var8  \\\n",
       "1019                     0.00                   0         1        0.00   \n",
       "9086                     0.00                   0         1        0.00   \n",
       "18757                    0.00                   3         2        0.00   \n",
       "67548                    0.00                   0         0        0.00   \n",
       "30003                  510.51                   0         3      675.36   \n",
       "\n",
       "       imp_op_var39_efect_ult1  imp_sal_var16_ult1  \n",
       "1019                       0.0                 0.0  \n",
       "9086                       0.0                 0.0  \n",
       "18757                      0.0                 0.0  \n",
       "67548                      0.0                 0.0  \n",
       "30003                    600.0                 0.0  \n",
       "\n",
       "[5 rows x 50 columns]"
      ]
     },
     "execution_count": 23,
     "metadata": {},
     "output_type": "execute_result"
    }
   ],
   "source": [
    "test_sub.head()"
   ]
  },
  {
   "cell_type": "code",
   "execution_count": 24,
   "metadata": {
    "collapsed": false
   },
   "outputs": [
    {
     "data": {
      "text/plain": [
       "([mean: 0.83636, std: 0.00574, params: {'max_depth': 3, 'min_child_weight': 3},\n",
       "  mean: 0.83668, std: 0.00600, params: {'max_depth': 3, 'min_child_weight': 4},\n",
       "  mean: 0.83615, std: 0.00560, params: {'max_depth': 3, 'min_child_weight': 5},\n",
       "  mean: 0.83679, std: 0.00639, params: {'max_depth': 4, 'min_child_weight': 3},\n",
       "  mean: 0.83689, std: 0.00655, params: {'max_depth': 4, 'min_child_weight': 4},\n",
       "  mean: 0.83720, std: 0.00674, params: {'max_depth': 4, 'min_child_weight': 5},\n",
       "  mean: 0.83635, std: 0.00593, params: {'max_depth': 5, 'min_child_weight': 3},\n",
       "  mean: 0.83567, std: 0.00622, params: {'max_depth': 5, 'min_child_weight': 4},\n",
       "  mean: 0.83638, std: 0.00645, params: {'max_depth': 5, 'min_child_weight': 5}],\n",
       " {'max_depth': 4, 'min_child_weight': 5},\n",
       " 0.8372022513492344)"
      ]
     },
     "execution_count": 24,
     "metadata": {},
     "output_type": "execute_result"
    }
   ],
   "source": [
    "# Define a new XGBoost Classifier with default parameters\n",
    "select_xgb_clf = xgb.XGBClassifier(learning_rate=0.1, n_estimators=100, seed=10)\n",
    "\n",
    "param_grid = {\n",
    "    \n",
    "            'max_depth':[3,4,5],\n",
    "            'min_child_weight':[3,4,5]\n",
    "}\n",
    "grid_clf = GridSearchCV(select_xgb_clf,param_grid,cv=5,scoring='roc_auc' )\n",
    "\n",
    "# Train the model\n",
    "grid_clf.fit(train_x_sub,y_train)\n",
    "grid_clf.grid_scores_, grid_clf.best_params_, grid_clf.best_score_"
   ]
  },
  {
   "cell_type": "code",
   "execution_count": 25,
   "metadata": {
    "collapsed": false
   },
   "outputs": [
    {
     "data": {
      "text/plain": [
       "([mean: 0.83719, std: 0.00648, params: {'subsample': 0.6, 'colsample_bytree': 0.6},\n",
       "  mean: 0.83792, std: 0.00633, params: {'subsample': 0.7, 'colsample_bytree': 0.6},\n",
       "  mean: 0.83713, std: 0.00610, params: {'subsample': 0.8, 'colsample_bytree': 0.6},\n",
       "  mean: 0.83733, std: 0.00618, params: {'subsample': 0.9, 'colsample_bytree': 0.6},\n",
       "  mean: 0.83741, std: 0.00653, params: {'subsample': 0.6, 'colsample_bytree': 0.7},\n",
       "  mean: 0.83755, std: 0.00543, params: {'subsample': 0.7, 'colsample_bytree': 0.7},\n",
       "  mean: 0.83714, std: 0.00595, params: {'subsample': 0.8, 'colsample_bytree': 0.7},\n",
       "  mean: 0.83848, std: 0.00558, params: {'subsample': 0.9, 'colsample_bytree': 0.7},\n",
       "  mean: 0.83712, std: 0.00590, params: {'subsample': 0.6, 'colsample_bytree': 0.8},\n",
       "  mean: 0.83778, std: 0.00670, params: {'subsample': 0.7, 'colsample_bytree': 0.8},\n",
       "  mean: 0.83706, std: 0.00641, params: {'subsample': 0.8, 'colsample_bytree': 0.8},\n",
       "  mean: 0.83797, std: 0.00630, params: {'subsample': 0.9, 'colsample_bytree': 0.8},\n",
       "  mean: 0.83658, std: 0.00593, params: {'subsample': 0.6, 'colsample_bytree': 0.9},\n",
       "  mean: 0.83747, std: 0.00709, params: {'subsample': 0.7, 'colsample_bytree': 0.9},\n",
       "  mean: 0.83754, std: 0.00633, params: {'subsample': 0.8, 'colsample_bytree': 0.9},\n",
       "  mean: 0.83780, std: 0.00636, params: {'subsample': 0.9, 'colsample_bytree': 0.9}],\n",
       " {'colsample_bytree': 0.7, 'subsample': 0.9},\n",
       " 0.8384795443038221)"
      ]
     },
     "execution_count": 25,
     "metadata": {},
     "output_type": "execute_result"
    }
   ],
   "source": [
    "# Define a new XGBoost Classifier setting the best value for the above parameter and \n",
    "# default for the rest\n",
    "select_xgb_clf = xgb.XGBClassifier(learning_rate=0.1,n_estimators=100, max_depth= 4, \n",
    "                                   min_child_weight= 5,seed=10)\n",
    "\n",
    "# Set a list of parameters\n",
    "param_grid = {\n",
    "    \n",
    "            'subsample':[0.6,0.7,0.8,0.9],\n",
    "            'colsample_bytree':[0.6,0.7,0.8,0.9]\n",
    "}\n",
    "grid_clf = GridSearchCV(select_xgb_clf,param_grid,cv=5, scoring='roc_auc')\n",
    "\n",
    "# Train the model\n",
    "grid_clf.fit(train_x_sub,y_train)\n",
    "grid_clf.grid_scores_, grid_clf.best_params_, grid_clf.best_score_"
   ]
  },
  {
   "cell_type": "code",
   "execution_count": 26,
   "metadata": {
    "collapsed": false
   },
   "outputs": [
    {
     "data": {
      "text/plain": [
       "([mean: 0.83754, std: 0.00643, params: {'reg_alpha': 0.001},\n",
       "  mean: 0.83761, std: 0.00624, params: {'reg_alpha': 0.005},\n",
       "  mean: 0.83757, std: 0.00608, params: {'reg_alpha': 0.01},\n",
       "  mean: 0.83765, std: 0.00587, params: {'reg_alpha': 0.05}],\n",
       " {'reg_alpha': 0.05},\n",
       " 0.8376527127788085)"
      ]
     },
     "execution_count": 26,
     "metadata": {},
     "output_type": "execute_result"
    }
   ],
   "source": [
    "# Define a new XGBoost Classifier with parameters setting so far.\n",
    "select_xgb_clf = xgb.XGBClassifier(learning_rate=0.1,n_estimators=100, max_depth= 5, min_child_weight= 5,\n",
    "                                  gamma=0,subsample=0.9, colsample_bytree=0.7, seed=10)\n",
    "\n",
    "# Set a list of parameters\n",
    "param_grid = {\n",
    "    \n",
    "         'reg_alpha':[0.001, 0.005, 0.01, 0.05]   \n",
    "}\n",
    "grid_clf = GridSearchCV(select_xgb_clf,param_grid,cv=5, scoring='roc_auc')\n",
    "\n",
    "# Train the model\n",
    "grid_clf.fit(train_x_sub,y_train)\n",
    "grid_clf.grid_scores_, grid_clf.best_params_, grid_clf.best_score_"
   ]
  },
  {
   "cell_type": "code",
   "execution_count": 27,
   "metadata": {
    "collapsed": false
   },
   "outputs": [
    {
     "data": {
      "text/plain": [
       "([mean: 0.83573, std: 0.00491, params: {'learning_rate': 0.05},\n",
       "  mean: 0.83808, std: 0.00528, params: {'learning_rate': 0.08},\n",
       "  mean: 0.83712, std: 0.00595, params: {'learning_rate': 0.1},\n",
       "  mean: 0.83556, std: 0.00670, params: {'learning_rate': 0.15}],\n",
       " {'learning_rate': 0.08},\n",
       " 0.8380758891290577)"
      ]
     },
     "execution_count": 27,
     "metadata": {},
     "output_type": "execute_result"
    }
   ],
   "source": [
    "# Define a new XGBoost Classifier.\n",
    "select_xgb_clf = xgb.XGBClassifier(n_estimators=75, max_depth= 5, min_child_weight= 5,gamma=0,\n",
    "                                   reg_alpha= 0.05,subsample=0.7, colsample_bytree=0.7, seed=10)\n",
    "\n",
    "# Set a list of parameters\n",
    "param_grid = {\n",
    "    \n",
    "         'learning_rate':[0.05,0.08, 0.1, 0.15]   \n",
    "}\n",
    "grid_clf = GridSearchCV(select_xgb_clf,param_grid,cv=5, scoring='roc_auc')\n",
    "\n",
    "# Train the model\n",
    "grid_clf.fit(train_x_sub,y_train)\n",
    "grid_clf.grid_scores_, grid_clf.best_params_, grid_clf.best_score_"
   ]
  },
  {
   "cell_type": "code",
   "execution_count": 28,
   "metadata": {
    "collapsed": false
   },
   "outputs": [
    {
     "data": {
      "text/plain": [
       "XGBClassifier(base_score=0.5, colsample_bylevel=1, colsample_bytree=0.7,\n",
       "       gamma=0, learning_rate=0.08, max_delta_step=0, max_depth=5,\n",
       "       min_child_weight=5, missing=None, n_estimators=75, nthread=-1,\n",
       "       objective='binary:logistic', reg_alpha=0.05, reg_lambda=1,\n",
       "       scale_pos_weight=1, seed=10, silent=True, subsample=0.7)"
      ]
     },
     "execution_count": 28,
     "metadata": {},
     "output_type": "execute_result"
    }
   ],
   "source": [
    "best_xgb_clf = grid_clf.best_estimator_\n",
    "grid_clf.best_estimator_"
   ]
  },
  {
   "cell_type": "code",
   "execution_count": 29,
   "metadata": {
    "collapsed": true
   },
   "outputs": [],
   "source": [
    "# Make prediction with test data\n",
    "predicted_proba = best_xgb_clf.predict_proba(test_sub)"
   ]
  },
  {
   "cell_type": "code",
   "execution_count": 30,
   "metadata": {
    "collapsed": false
   },
   "outputs": [
    {
     "data": {
      "text/plain": [
       "array([ 0.0074653 ,  0.0094148 ,  0.04694097, ...,  0.02624334,\n",
       "        0.03224584,  0.02001919], dtype=float32)"
      ]
     },
     "execution_count": 30,
     "metadata": {},
     "output_type": "execute_result"
    }
   ],
   "source": [
    "predicted_proba[:,1]"
   ]
  },
  {
   "cell_type": "code",
   "execution_count": 31,
   "metadata": {
    "collapsed": false
   },
   "outputs": [
    {
     "name": "stdout",
     "output_type": "stream",
     "text": [
      "Overall AUC: 0.848667539136\n"
     ]
    }
   ],
   "source": [
    "print('Overall AUC:', roc_auc_score(y_test, best_xgb_clf.predict_proba(test_sub, ntree_limit=xgb_clf.best_iteration)[:,1]))\n"
   ]
  },
  {
   "cell_type": "code",
   "execution_count": 32,
   "metadata": {
    "collapsed": false
   },
   "outputs": [
    {
     "name": "stdout",
     "output_type": "stream",
     "text": [
      "Overall AUC: 0.848667539136\n"
     ]
    }
   ],
   "source": [
    "print('Overall AUC:', roc_auc_score(y_test, predicted_proba[:,1]))"
   ]
  },
  {
   "cell_type": "code",
   "execution_count": 33,
   "metadata": {
    "collapsed": false
   },
   "outputs": [],
   "source": [
    "false_positive_rate, true_positive_rate, thresholds = roc_curve(y_test, predicted_proba[:,1])\n",
    "roc_auc = auc(false_positive_rate, true_positive_rate)"
   ]
  },
  {
   "cell_type": "code",
   "execution_count": 43,
   "metadata": {
    "collapsed": false
   },
   "outputs": [
    {
     "data": {
      "image/png": "[encoded data removed]",
      "text/plain": [
       "<matplotlib.figure.Figure at 0x1114efd30>"
      ]
     },
     "metadata": {},
     "output_type": "display_data"
    }
   ],
   "source": [
    "plt.title('Receiver Operating Characteristic')\n",
    "plt.plot(false_positive_rate, true_positive_rate, 'b',\n",
    "label='AUC = %0.2f'% roc_auc)\n",
    "plt.legend(loc='lower right')\n",
    "plt.plot([0,1],[0,1],'r--')\n",
    "plt.xlim([-0.1,1.2])\n",
    "plt.ylim([-0.1,1.2])\n",
    "plt.ylabel('True Positive Rate')\n",
    "plt.xlabel('False Positive Rate')\n",
    "plt.show()"
   ]
  },
  {
   "cell_type": "code",
   "execution_count": 53,
   "metadata": {
    "collapsed": false
   },
   "outputs": [],
   "source": [
    "# Make prediction with test data\n",
    "test_sub1 = test[select_feat]\n",
    "predicted_proba = best_xgb_clf.predict_proba(test_sub1)\n",
    "\n",
    "# Save the prediction in CSV file\n",
    "# predicted_proba has probabilities for each Target class for each observation.\n",
    "# We are concerned about probability of class 1 and hence taking predicted_proba[:,1]\n",
    "submission = pd.DataFrame({'ID':test_id,'TARGET':predicted_proba[:,1]})\n",
    "submission.to_csv('/Users/jyothi/Desktop/submission.csv', index=False)"
   ]
  }
 ],
 "metadata": {
  "anaconda-cloud": {},
  "kernelspec": {
   "display_name": "Python [default]",
   "language": "python",
   "name": "python3"
  },
  "language_info": {
   "codemirror_mode": {
    "name": "ipython",
    "version": 3
   },
   "file_extension": ".py",
   "mimetype": "text/x-python",
   "name": "python",
   "nbconvert_exporter": "python",
   "pygments_lexer": "ipython3",
   "version": "3.5.2"
  }
 },
 "nbformat": 4,
 "nbformat_minor": 1
}
