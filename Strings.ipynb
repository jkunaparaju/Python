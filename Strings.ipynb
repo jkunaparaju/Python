{
 "cells": [
  {
   "cell_type": "code",
   "execution_count": null,
   "metadata": {
    "collapsed": true
   },
   "outputs": [],
   "source": [
    "str = 'HackerRank.com presents \"Pythonist 2\".'\n",
    "print()"
   ]
  },
  {
   "cell_type": "code",
   "execution_count": 2,
   "metadata": {
    "collapsed": true
   },
   "outputs": [],
   "source": [
    "def print_full_name(a, b):\n",
    "    print(\"Hello \" + a +\" \" + b + \"!\"+ \" You just delved into python.\")"
   ]
  },
  {
   "cell_type": "code",
   "execution_count": 3,
   "metadata": {
    "collapsed": false
   },
   "outputs": [
    {
     "name": "stdout",
     "output_type": "stream",
     "text": [
      "Jyothi\n",
      "Kunaparaju\n",
      "Hello Jyothi Kunaparaju! You just delved into python.\n"
     ]
    }
   ],
   "source": [
    "if __name__ == '__main__':\n",
    "    first_name = input()\n",
    "    last_name = input()\n",
    "    print_full_name(first_name, last_name)"
   ]
  },
  {
   "cell_type": "code",
   "execution_count": null,
   "metadata": {
    "collapsed": false
   },
   "outputs": [],
   "source": [
    "\n"
   ]
  },
  {
   "cell_type": "code",
   "execution_count": null,
   "metadata": {
    "collapsed": true
   },
   "outputs": [],
   "source": [
    "string.count(sub_string)"
   ]
  },
  {
   "cell_type": "code",
   "execution_count": 30,
   "metadata": {
    "collapsed": false
   },
   "outputs": [],
   "source": [
    "def find_all(a_str, sub):\n",
    "    start = 0\n",
    "    \n",
    "    while True:\n",
    "        start = a_str.find(sub, start)\n",
    "        print(start)\n",
    "        if start == -1: return\n",
    "        yield start\n",
    "        start += 1\n",
    "        # len(sub) # use start += 1 to find overlapping matches\n",
    "\n",
    "#len(list(find_all('ABCDCDC', 'CDC'))) # [0, 5, 10, 15]"
   ]
  },
  {
   "cell_type": "code",
   "execution_count": null,
   "metadata": {
    "collapsed": false
   },
   "outputs": [],
   "source": []
  },
  {
   "cell_type": "code",
   "execution_count": 40,
   "metadata": {
    "collapsed": false
   },
   "outputs": [
    {
     "name": "stdout",
     "output_type": "stream",
     "text": [
      "True\n"
     ]
    }
   ],
   "source": [
    " print(any(map(str.isalnum,'qA2')))"
   ]
  },
  {
   "cell_type": "code",
   "execution_count": 50,
   "metadata": {
    "collapsed": false
   },
   "outputs": [
    {
     "name": "stdout",
     "output_type": "stream",
     "text": [
      "0x11\n"
     ]
    }
   ],
   "source": [
    "x = (hex(17))\n",
    "print(x)"
   ]
  },
  {
   "cell_type": "code",
   "execution_count": 51,
   "metadata": {
    "collapsed": false
   },
   "outputs": [
    {
     "name": "stdout",
     "output_type": "stream",
     "text": [
      "17\n"
     ]
    }
   ],
   "source": [
    "print(int(x , 16))"
   ]
  },
  {
   "cell_type": "code",
   "execution_count": 53,
   "metadata": {
    "collapsed": true
   },
   "outputs": [],
   "source": [
    "st =17"
   ]
  },
  {
   "cell_type": "code",
   "execution_count": 60,
   "metadata": {
    "collapsed": false
   },
   "outputs": [
    {
     "data": {
      "text/plain": [
       "5"
      ]
     },
     "execution_count": 60,
     "metadata": {},
     "output_type": "execute_result"
    }
   ],
   "source": [
    "w=len(bin(st)[2:])\n",
    "w"
   ]
  },
  {
   "cell_type": "code",
   "execution_count": 64,
   "metadata": {
    "collapsed": false
   },
   "outputs": [
    {
     "data": {
      "text/plain": [
       "'   21'"
      ]
     },
     "execution_count": 64,
     "metadata": {},
     "output_type": "execute_result"
    }
   ],
   "source": [
    "str(oct(st)[2:]).rjust(w,' ')"
   ]
  },
  {
   "cell_type": "code",
   "execution_count": 63,
   "metadata": {
    "collapsed": false
   },
   "outputs": [
    {
     "data": {
      "text/plain": [
       "'10001'"
      ]
     },
     "execution_count": 63,
     "metadata": {},
     "output_type": "execute_result"
    }
   ],
   "source": [
    "bin(17)[2:]"
   ]
  },
  {
   "cell_type": "code",
   "execution_count": 78,
   "metadata": {
    "collapsed": false
   },
   "outputs": [
    {
     "name": "stdout",
     "output_type": "stream",
     "text": [
      "17\n",
      "   17    21    11 10001\n",
      "   17    21    11 10001\n",
      "   17    21    11 10001\n",
      "   17    21    11 10001\n",
      "   17    21    11 10001\n",
      "   17    21    11 10001\n",
      "   17    21    11 10001\n",
      "   17    21    11 10001\n",
      "   17    21    11 10001\n",
      "   17    21    11 10001\n",
      "   17    21    11 10001\n",
      "   17    21    11 10001\n",
      "   17    21    11 10001\n",
      "   17    21    11 10001\n",
      "   17    21    11 10001\n",
      "   17    21    11 10001\n",
      "   17    21    11 10001\n"
     ]
    }
   ],
   "source": [
    "st=int(input())\n",
    "w=len(bin(st)[2:])\n",
    "for i in range(1,st+1):\n",
    "    print (str(st).rjust(w,' '),str(oct(st)[2:]).rjust(w,' '),str(hex(st)[2:].upper()).rjust(w,' '),str(bin(st)[2:]).rjust(w,' '),sep=' ')"
   ]
  },
  {
   "cell_type": "code",
   "execution_count": 79,
   "metadata": {
    "collapsed": true
   },
   "outputs": [],
   "source": [
    "def print_formatted(number):\n",
    "    # your code goes here \n",
    "    w=len(bin(number)[2:])\n",
    "    for i in range(1,number+1):\n",
    "        print (str(i).rjust(w,' '),str(oct(i)[2:]).rjust(w,' '),str(hex(i)[2:].upper()).rjust(w,' '),str(bin(i)[2:]).rjust(w,' '),sep=' ')"
   ]
  },
  {
   "cell_type": "code",
   "execution_count": 81,
   "metadata": {
    "collapsed": false
   },
   "outputs": [
    {
     "name": "stdout",
     "output_type": "stream",
     "text": [
      "2\n",
      " 1  1  1  1\n",
      " 2  2  2 10\n"
     ]
    }
   ],
   "source": [
    "n = int(input())\n",
    "print_formatted(n)"
   ]
  },
  {
   "cell_type": "code",
   "execution_count": 1,
   "metadata": {
    "collapsed": false
   },
   "outputs": [
    {
     "name": "stdout",
     "output_type": "stream",
     "text": [
      "3\n",
      "----c----\n",
      "--c-b-c--\n",
      "c-b-a-b-c\n",
      "--c-b-c--\n",
      "----c----\n"
     ]
    }
   ],
   "source": [
    "import string\n",
    "alpha = string.ascii_lowercase\n",
    "\n",
    "n = int(input())\n",
    "L = []\n",
    "for i in range(n):\n",
    "    s = \"-\".join(alpha[i:n])    \n",
    "    L.append((s[::-1]+s[1:]).center(4*n-3, \"-\"))\n",
    "print('\\n'.join(L[:0:-1]+L))"
   ]
  },
  {
   "cell_type": "code",
   "execution_count": 2,
   "metadata": {
    "collapsed": true
   },
   "outputs": [],
   "source": [
    "def print_rangoli(size):\n",
    "    # your code goes here\n",
    "    alpha = string.ascii_lowercase\n",
    "    L = []\n",
    "    for i in range(size):\n",
    "        s = \"-\".join(alpha[i:size])    \n",
    "        L.append((s[::-1]+s[1:]).center(4*size-3, \"-\"))\n",
    "        \n",
    "    print('\\n'.join(L[:0:-1]+L))"
   ]
  },
  {
   "cell_type": "code",
   "execution_count": 4,
   "metadata": {
    "collapsed": false
   },
   "outputs": [
    {
     "name": "stdout",
     "output_type": "stream",
     "text": [
      "5\n",
      "--------e--------\n",
      "------e-d-e------\n",
      "----e-d-c-d-e----\n",
      "--e-d-c-b-c-d-e--\n",
      "e-d-c-b-a-b-c-d-e\n",
      "--e-d-c-b-c-d-e--\n",
      "----e-d-c-d-e----\n",
      "------e-d-e------\n",
      "--------e--------\n"
     ]
    }
   ],
   "source": [
    "n = int(input())\n",
    "print_rangoli(n)"
   ]
  },
  {
   "cell_type": "code",
   "execution_count": 4,
   "metadata": {
    "collapsed": true
   },
   "outputs": [],
   "source": [
    "import string\n",
    "def cap(st):\n",
    "    return string.capwords(st)\n"
   ]
  },
  {
   "cell_type": "code",
   "execution_count": 7,
   "metadata": {
    "collapsed": false
   },
   "outputs": [
    {
     "name": "stdout",
     "output_type": "stream",
     "text": [
      "John's School\n"
     ]
    }
   ],
   "source": [
    "st = \"john's    school\"\n",
    "capitalized_string = cap(st)\n",
    "print(capitalized_string)"
   ]
  },
  {
   "cell_type": "code",
   "execution_count": 8,
   "metadata": {
    "collapsed": true
   },
   "outputs": [],
   "source": [
    "st = \"john's  doe   school\"\n",
    "def capitalize(string):\n",
    "    l=string.split(\" \")\n",
    "    a = [i.capitalize() for i in l]       \n",
    "    return \" \".join(a)"
   ]
  },
  {
   "cell_type": "code",
   "execution_count": 9,
   "metadata": {
    "collapsed": false
   },
   "outputs": [
    {
     "name": "stdout",
     "output_type": "stream",
     "text": [
      "John's  Doe   School\n"
     ]
    }
   ],
   "source": [
    "print(capitalize(st))"
   ]
  },
  {
   "cell_type": "code",
   "execution_count": 7,
   "metadata": {
    "collapsed": true
   },
   "outputs": [],
   "source": [
    "def average(array):\n",
    "    # your code goes here\n",
    "    s = set(array)\n",
    "    print(s)\n",
    "    return sum(s)/len(s)\n"
   ]
  },
  {
   "cell_type": "code",
   "execution_count": null,
   "metadata": {
    "collapsed": true
   },
   "outputs": [],
   "source": []
  },
  {
   "cell_type": "code",
   "execution_count": 8,
   "metadata": {
    "collapsed": false
   },
   "outputs": [
    {
     "data": {
      "text/plain": [
       "5"
      ]
     },
     "execution_count": 8,
     "metadata": {},
     "output_type": "execute_result"
    }
   ],
   "source": [
    "str ='12  12 13 14 15'\n",
    "arr = list(map(int, str.split()))\n",
    "\n",
    "len(arr)"
   ]
  },
  {
   "cell_type": "code",
   "execution_count": 6,
   "metadata": {
    "collapsed": false
   },
   "outputs": [
    {
     "data": {
      "text/plain": [
       "4"
      ]
     },
     "execution_count": 6,
     "metadata": {},
     "output_type": "execute_result"
    }
   ],
   "source": [
    "s = set(arr)\n",
    "len(s)"
   ]
  },
  {
   "cell_type": "code",
   "execution_count": 9,
   "metadata": {
    "collapsed": false
   },
   "outputs": [
    {
     "name": "stdout",
     "output_type": "stream",
     "text": [
      "{12, 13, 14, 15}\n",
      "13.5\n"
     ]
    }
   ],
   "source": [
    "result = average(arr)\n",
    "print(result)"
   ]
  },
  {
   "cell_type": "code",
   "execution_count": 12,
   "metadata": {
    "collapsed": true
   },
   "outputs": [],
   "source": [
    "a = {2, 9, 5, 4}\n",
    "b = {2, 4, 11, 12}\n",
    "c = a.intersection(b)\n",
    "d= a.union(b)\n",
    "ans = d.difference(c)"
   ]
  },
  {
   "cell_type": "code",
   "execution_count": 13,
   "metadata": {
    "collapsed": false
   },
   "outputs": [
    {
     "data": {
      "text/plain": [
       "{5, 9, 11, 12}"
      ]
     },
     "execution_count": 13,
     "metadata": {},
     "output_type": "execute_result"
    }
   ],
   "source": [
    "ans\n"
   ]
  },
  {
   "cell_type": "code",
   "execution_count": null,
   "metadata": {
    "collapsed": false
   },
   "outputs": [],
   "source": [
    "M = input()\n",
    "arr1 = list(map(int, input().split()))\n",
    "a=set(arr1)\n",
    "N= input()\n",
    "arr2 = list(map(int, input().split()))\n",
    "b= set(arr2)\n",
    "c = a.intersection(b)\n",
    "d= a.union(b)\n",
    "ans = set ( d.difference(c))\n"
   ]
  },
  {
   "cell_type": "code",
   "execution_count": 21,
   "metadata": {
    "collapsed": false
   },
   "outputs": [
    {
     "data": {
      "text/plain": [
       "{1, 2, 3, 4, 5, 7, 8, 9}"
      ]
     },
     "execution_count": 21,
     "metadata": {},
     "output_type": "execute_result"
    }
   ],
   "source": [
    "ans\n"
   ]
  },
  {
   "cell_type": "code",
   "execution_count": 2,
   "metadata": {
    "collapsed": true
   },
   "outputs": [],
   "source": [
    "\n",
    "m =\"2 4 5 9\"\n",
    "arr1 = list(map(int, m.split()))\n",
    "a=set(arr1)\n"
   ]
  },
  {
   "cell_type": "code",
   "execution_count": 5,
   "metadata": {
    "collapsed": false
   },
   "outputs": [
    {
     "name": "stdout",
     "output_type": "stream",
     "text": [
      "5\n",
      "9\n",
      "11\n",
      "12\n"
     ]
    }
   ],
   "source": [
    "arr2 = list(map(int, '2 4 11 12'.split()))\n",
    "b= set(arr2)\n",
    "c = a.intersection(b)\n",
    "d= a.union(b)\n",
    "ans = sorted(set ( d.difference(c)))\n",
    "for i in ans :\n",
    "    print(i)"
   ]
  },
  {
   "cell_type": "code",
   "execution_count": 10,
   "metadata": {
    "collapsed": false
   },
   "outputs": [
    {
     "name": "stdout",
     "output_type": "stream",
     "text": [
      "3 2 \n",
      "1 4 6 7 8 9 \n",
      "1 6  7  8  9 \n",
      "6 7 8 2 3 \n",
      "2\n"
     ]
    }
   ],
   "source": [
    "n, m = input().split()\n",
    "\n",
    "sc_ar = input().split()\n",
    "A = set(input().split())\n",
    "B = set(input().split())\n",
    "def like ( a , b , sc_sr ):\n",
    "    sc = 0 \n",
    "    for i  in sc_ar  :  \n",
    "        if(i in a )  : sc = sc + 1 \n",
    "        if(i in b )  : sc = sc - 1\n",
    "    return sc\n",
    "print(like(A, B , sc_ar))\n",
    "#print sum([(i in A) - (i in B)\n",
    "          # for i in sc_ar])"
   ]
  },
  {
   "cell_type": "code",
   "execution_count": 14,
   "metadata": {
    "collapsed": false
   },
   "outputs": [],
   "source": [
    "s = set('HackerRank')\n",
    "#print s.add('HackerRank')\n",
    "st = [ 'UK' , 'China' ,'USA' , 'France' ,'New Zealand' ,'UK' ,'France']\n",
    "set_st = set(st)"
   ]
  },
  {
   "cell_type": "code",
   "execution_count": 21,
   "metadata": {
    "collapsed": false
   },
   "outputs": [
    {
     "name": "stdout",
     "output_type": "stream",
     "text": [
      "UK China USA France New Zealand UK France\n",
      "UK China USA France New Zealand UK France\n",
      "{'UK China USA France New Zealand UK France'}\n"
     ]
    }
   ],
   "source": [
    "st = input()\n",
    "print(st)\n",
    "list_st = [st]\n",
    "set_st = set(list_st)\n",
    "print(set_st)"
   ]
  },
  {
   "cell_type": "code",
   "execution_count": 16,
   "metadata": {
    "collapsed": false
   },
   "outputs": [
    {
     "name": "stdout",
     "output_type": "stream",
     "text": [
      "5\n"
     ]
    }
   ],
   "source": [
    "print(len(set_st))"
   ]
  },
  {
   "cell_type": "code",
   "execution_count": 30,
   "metadata": {
    "collapsed": false
   },
   "outputs": [
    {
     "name": "stdout",
     "output_type": "stream",
     "text": [
      "5\n",
      "UK\n",
      "Chine\n",
      "Chine\n",
      "France\n",
      "France\n",
      "3\n"
     ]
    }
   ],
   "source": [
    "num = input()\n",
    "st = set()\n",
    "for i in range(int(num)) :\n",
    "    st.add(input())\n",
    "print(len(st))\n"
   ]
  },
  {
   "cell_type": "markdown",
   "metadata": {},
   "source": [
    "9\n",
    "1 2 3 4 5 6 7 8 9\n",
    "10\n",
    "pop\n",
    "remove 9\n",
    "discard 9\n",
    "discard 8\n",
    "remove 7\n",
    "pop \n",
    "discard 6\n",
    "remove 5\n",
    "pop \n",
    "discard 5"
   ]
  },
  {
   "cell_type": "code",
   "execution_count": 7,
   "metadata": {
    "collapsed": false
   },
   "outputs": [
    {
     "name": "stdout",
     "output_type": "stream",
     "text": [
      "9\n",
      "1 2 3 4 5 6 7 8 9\n",
      "3\n",
      "remove 9\n",
      "2\n"
     ]
    },
    {
     "ename": "KeyError",
     "evalue": "9",
     "output_type": "error",
     "traceback": [
      "\u001b[0;31m---------------------------------------------------------------------------\u001b[0m",
      "\u001b[0;31mKeyError\u001b[0m                                  Traceback (most recent call last)",
      "\u001b[0;32m<ipython-input-7-df3e4feead84>\u001b[0m in \u001b[0;36m<module>\u001b[0;34m()\u001b[0m\n\u001b[1;32m     13\u001b[0m     \u001b[0;32melse\u001b[0m \u001b[0;34m:\u001b[0m\u001b[0;34m\u001b[0m\u001b[0m\n\u001b[1;32m     14\u001b[0m         \u001b[0mstr_st\u001b[0m \u001b[0;34m=\u001b[0m \u001b[0;34m'sc_set'\u001b[0m\u001b[0;34m+\u001b[0m\u001b[0;34m'.'\u001b[0m\u001b[0;34m+\u001b[0m \u001b[0min_com\u001b[0m \u001b[0;34m+\u001b[0m \u001b[0;34m'()'\u001b[0m\u001b[0;34m\u001b[0m\u001b[0m\n\u001b[0;32m---> 15\u001b[0;31m     \u001b[0meval\u001b[0m\u001b[0;34m(\u001b[0m\u001b[0mstr_st\u001b[0m\u001b[0;34m)\u001b[0m\u001b[0;34m\u001b[0m\u001b[0m\n\u001b[0m\u001b[1;32m     16\u001b[0m \u001b[0;34m\u001b[0m\u001b[0m\n\u001b[1;32m     17\u001b[0m \u001b[0;34m\u001b[0m\u001b[0m\n",
      "\u001b[0;32m<string>\u001b[0m in \u001b[0;36m<module>\u001b[0;34m()\u001b[0m\n",
      "\u001b[0;31mKeyError\u001b[0m: 9"
     ]
    }
   ],
   "source": [
    "num = input()\n",
    "sc_ar = input().split()\n",
    "sc_set = set(sc_ar)\n",
    "num_com = input()\n",
    "for i in range(int(num_com)) :\n",
    "    in_put = input().split()\n",
    "    in_com = in_put[0]\n",
    "    print(len(in_put))\n",
    "    str_st=''\n",
    "    if len(in_put) == 2  :     \n",
    "        in_param = in_put[1]\n",
    "        str_st = 'sc_set'+'.'+ in_com + '(' + in_param + ')'\n",
    "    else :  \n",
    "        str_st = 'sc_set'+'.'+ in_com + '()'   \n",
    "    eval(str_st)\n",
    "    \n",
    "    "
   ]
  },
  {
   "cell_type": "code",
   "execution_count": 26,
   "metadata": {
    "collapsed": false
   },
   "outputs": [
    {
     "name": "stdout",
     "output_type": "stream",
     "text": [
      "1998\n",
      "False\n"
     ]
    }
   ],
   "source": [
    "year = int(input())\n",
    "leap = False\n",
    "if( (year%400 == 0) or  all ([year %100 !=0 ,  year%4 == 0 ])) :  leap = True \n",
    "print(leap)"
   ]
  },
  {
   "cell_type": "code",
   "execution_count": 48,
   "metadata": {
    "collapsed": false
   },
   "outputs": [
    {
     "name": "stdout",
     "output_type": "stream",
     "text": [
      "20\n",
      "1234567891011121314151617181920"
     ]
    }
   ],
   "source": [
    "from __future__ import print_function\n",
    "n = int(input())\n",
    "l = list(range(1,n+1))\n",
    "for item in l :\n",
    "    print(item, sep=' ', end='', flush=True)\n",
    "      \n",
    "#for i in range(n) :\n",
    "#    print(i)\n"
   ]
  },
  {
   "cell_type": "code",
   "execution_count": 66,
   "metadata": {
    "collapsed": false
   },
   "outputs": [
    {
     "name": "stdout",
     "output_type": "stream",
     "text": [
      "9\n",
      "1 2 3 4 5 6 7 8 9\n",
      "3\n",
      "pop\n",
      "pop\n",
      "pop\n",
      "39\n"
     ]
    }
   ],
   "source": [
    "n = int(input())\n",
    "set_s = set(map(int, input().split())) \n",
    "for i in range(int(input())):\n",
    "    ft = list(input().split())\n",
    "    eval('set_s.{0}({1})'.format(*ft +[''] ))\n",
    "\n",
    "print(sum(set_s))"
   ]
  },
  {
   "cell_type": "code",
   "execution_count": null,
   "metadata": {
    "collapsed": true
   },
   "outputs": [],
   "source": [
    "pop\n",
    "remove 9\n",
    "discard 9\n",
    "discard 8\n",
    "remove 7\n",
    "pop\n",
    "discard 6\n",
    "remove 5\n",
    "pop\n",
    "discard 5"
   ]
  },
  {
   "cell_type": "code",
   "execution_count": 74,
   "metadata": {
    "collapsed": false
   },
   "outputs": [
    {
     "name": "stdout",
     "output_type": "stream",
     "text": [
      "9\n",
      "1 2 3 4 5 6 7 8 9\n",
      "3\n",
      "pop\n",
      "remove 9\n",
      "discard 9\n",
      "35\n"
     ]
    }
   ],
   "source": [
    "n = int(input())\n",
    "s = set(map(int, input().split())) \n",
    "\n",
    "for _ in range(int(input())):\n",
    "    args = input().strip().split()\n",
    "    \n",
    "    if args[0] == \"pop\": \n",
    "        s.pop()\n",
    "    else:\n",
    "        eval(\"s.\" + args[0] + \"(\" + args[1] + \")\")\n",
    "        \n",
    "print(sum(s))  \n",
    "#pop\n",
    "#remove 9\n",
    "#discard 9\n",
    "#discard 8\n",
    "#remove 7 pop discard 6 remove 5 pop discard 5"
   ]
  },
  {
   "cell_type": "code",
   "execution_count": 78,
   "metadata": {
    "collapsed": false
   },
   "outputs": [
    {
     "name": "stdout",
     "output_type": "stream",
     "text": [
      "9\n",
      "1 2 3 4 5 6 7 8 9\n",
      "3\n",
      "pop\n",
      "remove 9\n",
      "discard 9\n",
      "35\n"
     ]
    }
   ],
   "source": [
    "n = input()\n",
    "s = set(map(int, input().split())) \n",
    "\n",
    "for _ in range(int(input())):\n",
    "    x = list(input().split())\n",
    "    eval('s.{0}({1})'.format(*x+['']))\n",
    "print (sum(s))"
   ]
  },
  {
   "cell_type": "code",
   "execution_count": 4,
   "metadata": {
    "collapsed": false
   },
   "outputs": [
    {
     "name": "stdout",
     "output_type": "stream",
     "text": [
      "1 2 3 4 5 6 7 8 9\n",
      "6 7 10 13 15 \n",
      "12\n"
     ]
    }
   ],
   "source": [
    "li1 = input().split()\n",
    "s1 = set(li1)\n",
    "li2 = input().split()\n",
    "s2 = set(li2)\n",
    "s1s2 = s1.union(s2)\n",
    "print(len(s1s2))"
   ]
  },
  {
   "cell_type": "code",
   "execution_count": 5,
   "metadata": {
    "collapsed": false
   },
   "outputs": [
    {
     "name": "stdout",
     "output_type": "stream",
     "text": [
      "1 2 3 4 5 6 7 8 9\n",
      "6 7 10 13 15 \n",
      "2\n"
     ]
    }
   ],
   "source": [
    "n1=input()\n",
    "li1 = input().split()\n",
    "s1 = set(li1)\n",
    "n2=input()\n",
    "li2 = input().split()\n",
    "s2 = set(li2)\n",
    "s1s2 = s1.intersection(s2)\n",
    "print(len(s1s2))"
   ]
  },
  {
   "cell_type": "code",
   "execution_count": 8,
   "metadata": {
    "collapsed": false
   },
   "outputs": [
    {
     "name": "stdout",
     "output_type": "stream",
     "text": [
      "9\n",
      "1 2 3 4 5 6 7 8 9\n",
      "5\n",
      "6 7 10 13 15\n",
      "10\n"
     ]
    }
   ],
   "source": [
    "n1=input()\n",
    "li1 = input().split()\n",
    "s1 = set(li1)\n",
    "n2=input()\n",
    "li2 = input().split()\n",
    "s2 = set(li2)\n",
    "s1s2 = s1.symmetric_difference(s2)\n",
    "print(len(s1s2))"
   ]
  },
  {
   "cell_type": "code",
   "execution_count": 9,
   "metadata": {
    "collapsed": false
   },
   "outputs": [
    {
     "name": "stdout",
     "output_type": "stream",
     "text": [
      "16\n",
      "1 2 3 4 5 6 7 8 9 10 11 12 13 14 24 52\n",
      "4\n",
      "intersection_update 10\n",
      "2 3 5 6 8 9 1 4 7 11\n",
      "update 2\n",
      "55 66\n",
      "symmetric_difference_update 5\n",
      "22 7 35 62 58\n",
      "difference_update 7\n",
      "11 22 35 55 58 62 66\n",
      "None\n"
     ]
    }
   ],
   "source": [
    "n = input()\n",
    "s = set(map(int, input().split())) \n",
    "\n",
    "for _ in range(int(input())):\n",
    "    x = list(input().split())\n",
    "    nw= set(map(int, input().split())) \n",
    "    fi = eval('s.{0}(nw)'.format(*x+['']))\n",
    "print(fi)"
   ]
  },
  {
   "cell_type": "code",
   "execution_count": 3,
   "metadata": {
    "collapsed": false
   },
   "outputs": [
    {
     "name": "stdout",
     "output_type": "stream",
     "text": [
      "16\n",
      "1 2 3 4 5 6 7 8 9 10 11 12 13 14 24 52\n",
      "4\n",
      "intersection_update 10\n",
      "2 3 5 6 8 9 1 4 7 11\n",
      "update 2\n",
      "55 66\n",
      "symmetric_difference_update 5\n",
      "22 7 35 62 58\n",
      "difference_update 7\n",
      "11 22 35 55 58 62 66\n",
      "{1, 2, 3, 4, 5, 6, 8, 9}\n"
     ]
    }
   ],
   "source": [
    "n = input()\n",
    "s = set(map(int, input().split())) \n",
    "\n",
    "for _ in range(int(input())):\n",
    "    args = input().strip().split()\n",
    "    nw= set(map(int, input().split())) \n",
    "    eval(\"s.\" + args[0] + \"(  nw  )\")\n",
    "print(sum(s))\n"
   ]
  },
  {
   "cell_type": "code",
   "execution_count": 20,
   "metadata": {
    "collapsed": false
   },
   "outputs": [
    {
     "name": "stdout",
     "output_type": "stream",
     "text": [
      "5\n",
      "1 2 3 6 5 4 4 2 5 3 6 1 6 5 3 2 4 1 2 5 1 4 3 6 8 4 3 1 5 6 \n",
      "8\n"
     ]
    }
   ],
   "source": [
    "import collections\n",
    "n = input()\n",
    "s = list(map(int, input().split())) \n",
    "lis = sorted(s)\n",
    "counter=collections.Counter(lis)\n",
    "d = dict(counter)\n",
    "print( [k for k, v in d.items() if v == 1][0])\n",
    "    "
   ]
  },
  {
   "cell_type": "code",
   "execution_count": 42,
   "metadata": {
    "collapsed": false
   },
   "outputs": [
    {
     "name": "stdout",
     "output_type": "stream",
     "text": [
      "2\n",
      "3\n",
      "1 2 3\n",
      "9\n",
      "1 3 5 6 8 9 0 9 8\n",
      "2\n",
      "1 2 \n",
      "3\n",
      "1 4 5 \n",
      "False\n",
      "False\n"
     ]
    }
   ],
   "source": [
    "l = []\n",
    "for i in range(int(input())):\n",
    "    n1 ,  set1  , n2 , set2= input(), set(map(int, input().split())),input() ,set(map(int, input().split()))   \n",
    "    l.append((set1 < set2))\n",
    "for i in  l : print (i)"
   ]
  },
  {
   "cell_type": "code",
   "execution_count": null,
   "metadata": {
    "collapsed": true
   },
   "outputs": [],
   "source": []
  },
  {
   "cell_type": "code",
   "execution_count": null,
   "metadata": {
    "collapsed": true
   },
   "outputs": [],
   "source": [
    "1 2 3 5 6\n",
    "9\n",
    "\n"
   ]
  },
  {
   "cell_type": "code",
   "execution_count": 2,
   "metadata": {
    "collapsed": false
   },
   "outputs": [
    {
     "name": "stdout",
     "output_type": "stream",
     "text": [
      "1 2 3 4 5 6 7 8 9 10 11 12 23 45 84 7\n",
      "3 \n",
      "2  3 \n",
      "4 5 \n",
      "34\n",
      "False\n"
     ]
    }
   ],
   "source": [
    "mainset = set(map(int, input().split()))\n",
    "superset = True\n",
    "for _ in range(int(input())):\n",
    "    subset = set(map(int, input().split()))\n",
    "    superset =  mainset.issuperset(subset)\n",
    "    if(not superset): break\n",
    "print(superset)"
   ]
  },
  {
   "cell_type": "code",
   "execution_count": 4,
   "metadata": {
    "collapsed": false
   },
   "outputs": [
    {
     "name": "stdout",
     "output_type": "stream",
     "text": [
      "2 3 \n",
      "1 2 3 \n",
      "2 3 4 \n",
      "[[1 2]\n",
      " [2 3]\n",
      " [3 4]]\n",
      "[1 2 3 2 3 4]\n"
     ]
    }
   ],
   "source": [
    "import numpy\n",
    "n, m = map(int, input().split())\n",
    "array = numpy.array([input().strip().split() for _ in range(n)], int)\n",
    "print (array.transpose())\n",
    "print (array.flatten())"
   ]
  },
  {
   "cell_type": "code",
   "execution_count": 6,
   "metadata": {
    "collapsed": false
   },
   "outputs": [],
   "source": [
    "array = numpy.array([[1, 2, 3 ],[2 ,3 ,4]])"
   ]
  },
  {
   "cell_type": "code",
   "execution_count": 7,
   "metadata": {
    "collapsed": false
   },
   "outputs": [
    {
     "data": {
      "text/plain": [
       "array([[1, 2, 3],\n",
       "       [2, 3, 4]])"
      ]
     },
     "execution_count": 7,
     "metadata": {},
     "output_type": "execute_result"
    }
   ],
   "source": [
    "array\n",
    "np.concatenate((a, b))"
   ]
  },
  {
   "cell_type": "code",
   "execution_count": 12,
   "metadata": {
    "collapsed": false
   },
   "outputs": [
    {
     "name": "stdout",
     "output_type": "stream",
     "text": [
      "2 2 \n",
      "2 5 \n",
      "2 6\n",
      "[[2 2]\n",
      " [5 6]]\n",
      "[2 5 2 6]\n"
     ]
    }
   ],
   "source": [
    "import numpy\n",
    "n, m = map(int, input().split())\n",
    "arr = numpy.zeros(shape=(n,m))\n",
    "for i in range(n):\n",
    "    arr[i] = list(map(int, input().split()))\n",
    "arr = arr.astype(int)\n",
    "print (arr.transpose())\n",
    "print (arr.flatten())"
   ]
  },
  {
   "cell_type": "code",
   "execution_count": null,
   "metadata": {
    "collapsed": true
   },
   "outputs": [],
   "source": []
  }
 ],
 "metadata": {
  "anaconda-cloud": {},
  "kernelspec": {
   "display_name": "Python [default]",
   "language": "python",
   "name": "python3"
  },
  "language_info": {
   "codemirror_mode": {
    "name": "ipython",
    "version": 3
   },
   "file_extension": ".py",
   "mimetype": "text/x-python",
   "name": "python",
   "nbconvert_exporter": "python",
   "pygments_lexer": "ipython3",
   "version": "3.5.2"
  }
 },
 "nbformat": 4,
 "nbformat_minor": 1
}
